{
 "cells": [
  {
   "cell_type": "markdown",
   "metadata": {},
   "source": [
    "# Project: Identify Customer Segments\n",
    "\n",
    "In this project, you will apply unsupervised learning techniques to identify segments of the population that form the core customer base for a mail-order sales company in Germany. These segments can then be used to direct marketing campaigns towards audiences that will have the highest expected rate of returns. The data that you will use has been provided by our partners at Bertelsmann Arvato Analytics, and represents a real-life data science task.\n",
    "\n",
    "This notebook will help you complete this task by providing a framework within which you will perform your analysis steps. In each step of the project, you will see some text describing the subtask that you will perform, followed by one or more code cells for you to complete your work. **Feel free to add additional code and markdown cells as you go along so that you can explore everything in precise chunks.** The code cells provided in the base template will outline only the major tasks, and will usually not be enough to cover all of the minor tasks that comprise it.\n",
    "\n",
    "It should be noted that while there will be precise guidelines on how you should handle certain tasks in the project, there will also be places where an exact specification is not provided. **There will be times in the project where you will need to make and justify your own decisions on how to treat the data.** These are places where there may not be only one way to handle the data. In real-life tasks, there may be many valid ways to approach an analysis task. One of the most important things you can do is clearly document your approach so that other scientists can understand the decisions you've made.\n",
    "\n",
    "At the end of most sections, there will be a Markdown cell labeled **Discussion**. In these cells, you will report your findings for the completed section, as well as document the decisions that you made in your approach to each subtask. **Your project will be evaluated not just on the code used to complete the tasks outlined, but also your communication about your observations and conclusions at each stage.**"
   ]
  },
  {
   "cell_type": "code",
   "execution_count": 1130,
   "metadata": {},
   "outputs": [],
   "source": [
    "# import libraries here; add more as necessary\n",
    "import numpy as np\n",
    "import pandas as pd\n",
    "import matplotlib.pyplot as plt\n",
    "import seaborn as sns\n",
    "from sklearn.preprocessing import Imputer, StandardScaler\n",
    "from sklearn.decomposition import PCA\n",
    "from sklearn.cluster import KMeans\n",
    "\n",
    "# magic word for producing visualizations in notebook\n",
    "%matplotlib inline"
   ]
  },
  {
   "cell_type": "markdown",
   "metadata": {},
   "source": [
    "### Step 0: Load the Data\n",
    "\n",
    "There are four files associated with this project (not including this one):\n",
    "\n",
    "- `Udacity_AZDIAS_Subset.csv`: Demographics data for the general population of Germany; 891211 persons (rows) x 85 features (columns).\n",
    "- `Udacity_CUSTOMERS_Subset.csv`: Demographics data for customers of a mail-order company; 191652 persons (rows) x 85 features (columns).\n",
    "- `Data_Dictionary.md`: Detailed information file about the features in the provided datasets.\n",
    "- `AZDIAS_Feature_Summary.csv`: Summary of feature attributes for demographics data; 85 features (rows) x 4 columns\n",
    "\n",
    "Each row of the demographics files represents a single person, but also includes information outside of individuals, including information about their household, building, and neighborhood. You will use this information to cluster the general population into groups with similar demographic properties. Then, you will see how the people in the customers dataset fit into those created clusters. The hope here is that certain clusters are over-represented in the customers data, as compared to the general population; those over-represented clusters will be assumed to be part of the core userbase. This information can then be used for further applications, such as targeting for a marketing campaign.\n",
    "\n",
    "To start off with, load in the demographics data for the general population into a pandas DataFrame, and do the same for the feature attributes summary. Note for all of the `.csv` data files in this project: they're semicolon (`;`) delimited, so you'll need an additional argument in your [`read_csv()`](https://pandas.pydata.org/pandas-docs/stable/generated/pandas.read_csv.html) call to read in the data properly. Also, considering the size of the main dataset, it may take some time for it to load completely.\n",
    "\n",
    "Once the dataset is loaded, it's recommended that you take a little bit of time just browsing the general structure of the dataset and feature summary file. You'll be getting deep into the innards of the cleaning in the first major step of the project, so gaining some general familiarity can help you get your bearings."
   ]
  },
  {
   "cell_type": "code",
   "execution_count": 1131,
   "metadata": {},
   "outputs": [],
   "source": [
    "# Load in the general demographics data.\n",
    "azdias = pd.read_csv('Udacity_AZDIAS_Subset.csv', sep=';')\n",
    "\n",
    "# Load in the feature summary file.\n",
    "feat_info = pd.read_csv('AZDIAS_Feature_Summary.csv', sep=';')"
   ]
  },
  {
   "cell_type": "code",
   "execution_count": 1132,
   "metadata": {
    "scrolled": true
   },
   "outputs": [
    {
     "data": {
      "text/html": [
       "<div>\n",
       "<style scoped>\n",
       "    .dataframe tbody tr th:only-of-type {\n",
       "        vertical-align: middle;\n",
       "    }\n",
       "\n",
       "    .dataframe tbody tr th {\n",
       "        vertical-align: top;\n",
       "    }\n",
       "\n",
       "    .dataframe thead th {\n",
       "        text-align: right;\n",
       "    }\n",
       "</style>\n",
       "<table border=\"1\" class=\"dataframe\">\n",
       "  <thead>\n",
       "    <tr style=\"text-align: right;\">\n",
       "      <th></th>\n",
       "      <th>AGER_TYP</th>\n",
       "      <th>ALTERSKATEGORIE_GROB</th>\n",
       "      <th>ANREDE_KZ</th>\n",
       "      <th>CJT_GESAMTTYP</th>\n",
       "      <th>FINANZ_MINIMALIST</th>\n",
       "      <th>FINANZ_SPARER</th>\n",
       "      <th>FINANZ_VORSORGER</th>\n",
       "      <th>FINANZ_ANLEGER</th>\n",
       "      <th>FINANZ_UNAUFFAELLIGER</th>\n",
       "      <th>FINANZ_HAUSBAUER</th>\n",
       "      <th>...</th>\n",
       "      <th>PLZ8_ANTG1</th>\n",
       "      <th>PLZ8_ANTG2</th>\n",
       "      <th>PLZ8_ANTG3</th>\n",
       "      <th>PLZ8_ANTG4</th>\n",
       "      <th>PLZ8_BAUMAX</th>\n",
       "      <th>PLZ8_HHZ</th>\n",
       "      <th>PLZ8_GBZ</th>\n",
       "      <th>ARBEIT</th>\n",
       "      <th>ORTSGR_KLS9</th>\n",
       "      <th>RELAT_AB</th>\n",
       "    </tr>\n",
       "  </thead>\n",
       "  <tbody>\n",
       "    <tr>\n",
       "      <th>0</th>\n",
       "      <td>-1</td>\n",
       "      <td>2</td>\n",
       "      <td>1</td>\n",
       "      <td>2.0</td>\n",
       "      <td>3</td>\n",
       "      <td>4</td>\n",
       "      <td>3</td>\n",
       "      <td>5</td>\n",
       "      <td>5</td>\n",
       "      <td>3</td>\n",
       "      <td>...</td>\n",
       "      <td>NaN</td>\n",
       "      <td>NaN</td>\n",
       "      <td>NaN</td>\n",
       "      <td>NaN</td>\n",
       "      <td>NaN</td>\n",
       "      <td>NaN</td>\n",
       "      <td>NaN</td>\n",
       "      <td>NaN</td>\n",
       "      <td>NaN</td>\n",
       "      <td>NaN</td>\n",
       "    </tr>\n",
       "    <tr>\n",
       "      <th>1</th>\n",
       "      <td>-1</td>\n",
       "      <td>1</td>\n",
       "      <td>2</td>\n",
       "      <td>5.0</td>\n",
       "      <td>1</td>\n",
       "      <td>5</td>\n",
       "      <td>2</td>\n",
       "      <td>5</td>\n",
       "      <td>4</td>\n",
       "      <td>5</td>\n",
       "      <td>...</td>\n",
       "      <td>2.0</td>\n",
       "      <td>3.0</td>\n",
       "      <td>2.0</td>\n",
       "      <td>1.0</td>\n",
       "      <td>1.0</td>\n",
       "      <td>5.0</td>\n",
       "      <td>4.0</td>\n",
       "      <td>3.0</td>\n",
       "      <td>5.0</td>\n",
       "      <td>4.0</td>\n",
       "    </tr>\n",
       "    <tr>\n",
       "      <th>2</th>\n",
       "      <td>-1</td>\n",
       "      <td>3</td>\n",
       "      <td>2</td>\n",
       "      <td>3.0</td>\n",
       "      <td>1</td>\n",
       "      <td>4</td>\n",
       "      <td>1</td>\n",
       "      <td>2</td>\n",
       "      <td>3</td>\n",
       "      <td>5</td>\n",
       "      <td>...</td>\n",
       "      <td>3.0</td>\n",
       "      <td>3.0</td>\n",
       "      <td>1.0</td>\n",
       "      <td>0.0</td>\n",
       "      <td>1.0</td>\n",
       "      <td>4.0</td>\n",
       "      <td>4.0</td>\n",
       "      <td>3.0</td>\n",
       "      <td>5.0</td>\n",
       "      <td>2.0</td>\n",
       "    </tr>\n",
       "    <tr>\n",
       "      <th>3</th>\n",
       "      <td>2</td>\n",
       "      <td>4</td>\n",
       "      <td>2</td>\n",
       "      <td>2.0</td>\n",
       "      <td>4</td>\n",
       "      <td>2</td>\n",
       "      <td>5</td>\n",
       "      <td>2</td>\n",
       "      <td>1</td>\n",
       "      <td>2</td>\n",
       "      <td>...</td>\n",
       "      <td>2.0</td>\n",
       "      <td>2.0</td>\n",
       "      <td>2.0</td>\n",
       "      <td>0.0</td>\n",
       "      <td>1.0</td>\n",
       "      <td>3.0</td>\n",
       "      <td>4.0</td>\n",
       "      <td>2.0</td>\n",
       "      <td>3.0</td>\n",
       "      <td>3.0</td>\n",
       "    </tr>\n",
       "    <tr>\n",
       "      <th>4</th>\n",
       "      <td>-1</td>\n",
       "      <td>3</td>\n",
       "      <td>1</td>\n",
       "      <td>5.0</td>\n",
       "      <td>4</td>\n",
       "      <td>3</td>\n",
       "      <td>4</td>\n",
       "      <td>1</td>\n",
       "      <td>3</td>\n",
       "      <td>2</td>\n",
       "      <td>...</td>\n",
       "      <td>2.0</td>\n",
       "      <td>4.0</td>\n",
       "      <td>2.0</td>\n",
       "      <td>1.0</td>\n",
       "      <td>2.0</td>\n",
       "      <td>3.0</td>\n",
       "      <td>3.0</td>\n",
       "      <td>4.0</td>\n",
       "      <td>6.0</td>\n",
       "      <td>5.0</td>\n",
       "    </tr>\n",
       "  </tbody>\n",
       "</table>\n",
       "<p>5 rows × 85 columns</p>\n",
       "</div>"
      ],
      "text/plain": [
       "   AGER_TYP  ALTERSKATEGORIE_GROB  ANREDE_KZ  CJT_GESAMTTYP  \\\n",
       "0        -1                     2          1            2.0   \n",
       "1        -1                     1          2            5.0   \n",
       "2        -1                     3          2            3.0   \n",
       "3         2                     4          2            2.0   \n",
       "4        -1                     3          1            5.0   \n",
       "\n",
       "   FINANZ_MINIMALIST  FINANZ_SPARER  FINANZ_VORSORGER  FINANZ_ANLEGER  \\\n",
       "0                  3              4                 3               5   \n",
       "1                  1              5                 2               5   \n",
       "2                  1              4                 1               2   \n",
       "3                  4              2                 5               2   \n",
       "4                  4              3                 4               1   \n",
       "\n",
       "   FINANZ_UNAUFFAELLIGER  FINANZ_HAUSBAUER    ...     PLZ8_ANTG1  PLZ8_ANTG2  \\\n",
       "0                      5                 3    ...            NaN         NaN   \n",
       "1                      4                 5    ...            2.0         3.0   \n",
       "2                      3                 5    ...            3.0         3.0   \n",
       "3                      1                 2    ...            2.0         2.0   \n",
       "4                      3                 2    ...            2.0         4.0   \n",
       "\n",
       "   PLZ8_ANTG3  PLZ8_ANTG4  PLZ8_BAUMAX  PLZ8_HHZ  PLZ8_GBZ  ARBEIT  \\\n",
       "0         NaN         NaN          NaN       NaN       NaN     NaN   \n",
       "1         2.0         1.0          1.0       5.0       4.0     3.0   \n",
       "2         1.0         0.0          1.0       4.0       4.0     3.0   \n",
       "3         2.0         0.0          1.0       3.0       4.0     2.0   \n",
       "4         2.0         1.0          2.0       3.0       3.0     4.0   \n",
       "\n",
       "   ORTSGR_KLS9  RELAT_AB  \n",
       "0          NaN       NaN  \n",
       "1          5.0       4.0  \n",
       "2          5.0       2.0  \n",
       "3          3.0       3.0  \n",
       "4          6.0       5.0  \n",
       "\n",
       "[5 rows x 85 columns]"
      ]
     },
     "execution_count": 1132,
     "metadata": {},
     "output_type": "execute_result"
    }
   ],
   "source": [
    "# Check the structure of the data after it's loaded (e.g. print the number of\n",
    "# rows and columns, print the first few rows).\n",
    "azdias.head()"
   ]
  },
  {
   "cell_type": "code",
   "execution_count": 1133,
   "metadata": {
    "scrolled": false
   },
   "outputs": [
    {
     "name": "stdout",
     "output_type": "stream",
     "text": [
      "<class 'pandas.core.frame.DataFrame'>\n",
      "RangeIndex: 891221 entries, 0 to 891220\n",
      "Data columns (total 85 columns):\n",
      "AGER_TYP                 891221 non-null int64\n",
      "ALTERSKATEGORIE_GROB     891221 non-null int64\n",
      "ANREDE_KZ                891221 non-null int64\n",
      "CJT_GESAMTTYP            886367 non-null float64\n",
      "FINANZ_MINIMALIST        891221 non-null int64\n",
      "FINANZ_SPARER            891221 non-null int64\n",
      "FINANZ_VORSORGER         891221 non-null int64\n",
      "FINANZ_ANLEGER           891221 non-null int64\n",
      "FINANZ_UNAUFFAELLIGER    891221 non-null int64\n",
      "FINANZ_HAUSBAUER         891221 non-null int64\n",
      "FINANZTYP                891221 non-null int64\n",
      "GEBURTSJAHR              891221 non-null int64\n",
      "GFK_URLAUBERTYP          886367 non-null float64\n",
      "GREEN_AVANTGARDE         891221 non-null int64\n",
      "HEALTH_TYP               891221 non-null int64\n",
      "LP_LEBENSPHASE_FEIN      886367 non-null float64\n",
      "LP_LEBENSPHASE_GROB      886367 non-null float64\n",
      "LP_FAMILIE_FEIN          886367 non-null float64\n",
      "LP_FAMILIE_GROB          886367 non-null float64\n",
      "LP_STATUS_FEIN           886367 non-null float64\n",
      "LP_STATUS_GROB           886367 non-null float64\n",
      "NATIONALITAET_KZ         891221 non-null int64\n",
      "PRAEGENDE_JUGENDJAHRE    891221 non-null int64\n",
      "RETOURTYP_BK_S           886367 non-null float64\n",
      "SEMIO_SOZ                891221 non-null int64\n",
      "SEMIO_FAM                891221 non-null int64\n",
      "SEMIO_REL                891221 non-null int64\n",
      "SEMIO_MAT                891221 non-null int64\n",
      "SEMIO_VERT               891221 non-null int64\n",
      "SEMIO_LUST               891221 non-null int64\n",
      "SEMIO_ERL                891221 non-null int64\n",
      "SEMIO_KULT               891221 non-null int64\n",
      "SEMIO_RAT                891221 non-null int64\n",
      "SEMIO_KRIT               891221 non-null int64\n",
      "SEMIO_DOM                891221 non-null int64\n",
      "SEMIO_KAEM               891221 non-null int64\n",
      "SEMIO_PFLICHT            891221 non-null int64\n",
      "SEMIO_TRADV              891221 non-null int64\n",
      "SHOPPER_TYP              891221 non-null int64\n",
      "SOHO_KZ                  817722 non-null float64\n",
      "TITEL_KZ                 817722 non-null float64\n",
      "VERS_TYP                 891221 non-null int64\n",
      "ZABEOTYP                 891221 non-null int64\n",
      "ALTER_HH                 817722 non-null float64\n",
      "ANZ_PERSONEN             817722 non-null float64\n",
      "ANZ_TITEL                817722 non-null float64\n",
      "HH_EINKOMMEN_SCORE       872873 non-null float64\n",
      "KK_KUNDENTYP             306609 non-null float64\n",
      "W_KEIT_KIND_HH           783619 non-null float64\n",
      "WOHNDAUER_2008           817722 non-null float64\n",
      "ANZ_HAUSHALTE_AKTIV      798073 non-null float64\n",
      "ANZ_HH_TITEL             794213 non-null float64\n",
      "GEBAEUDETYP              798073 non-null float64\n",
      "KONSUMNAEHE              817252 non-null float64\n",
      "MIN_GEBAEUDEJAHR         798073 non-null float64\n",
      "OST_WEST_KZ              798073 non-null object\n",
      "WOHNLAGE                 798073 non-null float64\n",
      "CAMEO_DEUG_2015          792242 non-null object\n",
      "CAMEO_DEU_2015           792242 non-null object\n",
      "CAMEO_INTL_2015          792242 non-null object\n",
      "KBA05_ANTG1              757897 non-null float64\n",
      "KBA05_ANTG2              757897 non-null float64\n",
      "KBA05_ANTG3              757897 non-null float64\n",
      "KBA05_ANTG4              757897 non-null float64\n",
      "KBA05_BAUMAX             757897 non-null float64\n",
      "KBA05_GBZ                757897 non-null float64\n",
      "BALLRAUM                 797481 non-null float64\n",
      "EWDICHTE                 797481 non-null float64\n",
      "INNENSTADT               797481 non-null float64\n",
      "GEBAEUDETYP_RASTER       798066 non-null float64\n",
      "KKK                      770025 non-null float64\n",
      "MOBI_REGIO               757897 non-null float64\n",
      "ONLINE_AFFINITAET        886367 non-null float64\n",
      "REGIOTYP                 770025 non-null float64\n",
      "KBA13_ANZAHL_PKW         785421 non-null float64\n",
      "PLZ8_ANTG1               774706 non-null float64\n",
      "PLZ8_ANTG2               774706 non-null float64\n",
      "PLZ8_ANTG3               774706 non-null float64\n",
      "PLZ8_ANTG4               774706 non-null float64\n",
      "PLZ8_BAUMAX              774706 non-null float64\n",
      "PLZ8_HHZ                 774706 non-null float64\n",
      "PLZ8_GBZ                 774706 non-null float64\n",
      "ARBEIT                   794005 non-null float64\n",
      "ORTSGR_KLS9              794005 non-null float64\n",
      "RELAT_AB                 794005 non-null float64\n",
      "dtypes: float64(49), int64(32), object(4)\n",
      "memory usage: 578.0+ MB\n"
     ]
    }
   ],
   "source": [
    "azdias.info()"
   ]
  },
  {
   "cell_type": "code",
   "execution_count": 1134,
   "metadata": {},
   "outputs": [
    {
     "data": {
      "text/plain": [
       "(891221, 85)"
      ]
     },
     "execution_count": 1134,
     "metadata": {},
     "output_type": "execute_result"
    }
   ],
   "source": [
    "azdias.shape"
   ]
  },
  {
   "cell_type": "markdown",
   "metadata": {},
   "source": [
    "azdias data contains 85 features and 891221 entries. <br>\n",
    "data types in azdias inlucde int64, float64 and object. "
   ]
  },
  {
   "cell_type": "markdown",
   "metadata": {},
   "source": [
    "## Step 1: Preprocessing\n",
    "\n",
    "### Step 1.1: Assess Missing Data\n",
    "\n",
    "The feature summary file contains a summary of properties for each demographics data column. You will use this file to help you make cleaning decisions during this stage of the project. First of all, you should assess the demographics data in terms of missing data. Pay attention to the following points as you perform your analysis, and take notes on what you observe. Make sure that you fill in the **Discussion** cell with your findings and decisions at the end of each step that has one!\n",
    "\n",
    "#### Step 1.1.1: Convert Missing Value Codes to NaNs\n",
    "The fourth column of the feature attributes summary (loaded in above as `feat_info`) documents the codes from the data dictionary that indicate missing or unknown data. While the file encodes this as a list (e.g. `[-1,0]`), this will get read in as a string object. You'll need to do a little bit of parsing to make use of it to identify and clean the data. Convert data that matches a 'missing' or 'unknown' value code into a numpy NaN value. You might want to see how much data takes on a 'missing' or 'unknown' code, and how much data is naturally missing, as a point of interest.\n",
    "\n",
    "**As one more reminder, you are encouraged to add additional cells to break up your analysis into manageable chunks.**"
   ]
  },
  {
   "cell_type": "code",
   "execution_count": 1135,
   "metadata": {},
   "outputs": [],
   "source": [
    "# create a duplicate dataframe for cleaning\n",
    "azdias_clean = azdias.copy()\n",
    "feat_info_clean = feat_info.copy()"
   ]
  },
  {
   "cell_type": "code",
   "execution_count": 1136,
   "metadata": {},
   "outputs": [],
   "source": [
    "# store data types of each column into feat_info_clean\n",
    "feat_info_clean['data_type']=np.array([azdias[column].dtype for column in azdias.columns])"
   ]
  },
  {
   "cell_type": "code",
   "execution_count": 1137,
   "metadata": {},
   "outputs": [
    {
     "data": {
      "text/plain": [
       "array(['[-1,0]', '[-1,0,9]', '[0]', '[-1]', '[]', '[-1,9]', '[-1,X]',\n",
       "       '[XX]', '[-1,XX]'], dtype=object)"
      ]
     },
     "execution_count": 1137,
     "metadata": {},
     "output_type": "execute_result"
    }
   ],
   "source": [
    "# find unique values of codes for missing or unknown data\n",
    "feat_info_clean['missing_or_unknown'].unique()"
   ]
  },
  {
   "cell_type": "markdown",
   "metadata": {},
   "source": [
    "Identify missing or unknown data values and convert them to NaNs."
   ]
  },
  {
   "cell_type": "code",
   "execution_count": 1138,
   "metadata": {},
   "outputs": [],
   "source": [
    "# define a function to convert the string to lists\n",
    "def code_for_unknown(string, data_type):\n",
    "    '''convert a string that looks like a list of integers to list of integers'''\n",
    "    if string == '[]':\n",
    "        return None    \n",
    "    elements = string[1:-1].split(',')\n",
    "    if data_type == 'object':\n",
    "        return elements\n",
    "    if data_type=='int64':\n",
    "        return [int(element) for element in elements]\n",
    "    if data_type == 'float64':\n",
    "        return [float(element) for element in elements]"
   ]
  },
  {
   "cell_type": "code",
   "execution_count": 1139,
   "metadata": {
    "scrolled": true
   },
   "outputs": [],
   "source": [
    "# store codes for missing values of each column into the data frame feat_info_clean\n",
    "feat_info_clean['missing_codes']=[code_for_unknown(element, data_type) for element, data_type in zip(feat_info_clean['missing_or_unknown'], feat_info_clean['data_type'])]          "
   ]
  },
  {
   "cell_type": "code",
   "execution_count": 1140,
   "metadata": {},
   "outputs": [],
   "source": [
    "# in the new data frame, replaces codes for missing values with NaN\n",
    "for i, column in enumerate(feat_info_clean['attribute']):\n",
    "    if feat_info_clean.loc[i,'missing_codes'] is not None:\n",
    "        azdias_clean[column].replace(feat_info_clean.loc[i,'missing_codes'], np.NaN, inplace=True) "
   ]
  },
  {
   "cell_type": "markdown",
   "metadata": {},
   "source": [
    "#### Step 1.1.2: Assess Missing Data in Each Column\n",
    "\n",
    "How much missing data is present in each column? There are a few columns that are outliers in terms of the proportion of values that are missing. You will want to use matplotlib's [`hist()`](https://matplotlib.org/api/_as_gen/matplotlib.pyplot.hist.html) function to visualize the distribution of missing value counts to find these columns. Identify and document these columns. While some of these columns might have justifications for keeping or re-encoding the data, for this project you should just remove them from the dataframe. (Feel free to make remarks about these outlier columns in the discussion, however!)\n",
    "\n",
    "For the remaining features, are there any patterns in which columns have, or share, missing data?"
   ]
  },
  {
   "cell_type": "code",
   "execution_count": 1141,
   "metadata": {
    "scrolled": true
   },
   "outputs": [
    {
     "data": {
      "text/plain": [
       "AGER_TYP                 685843\n",
       "ALTERSKATEGORIE_GROB       2881\n",
       "ANREDE_KZ                     0\n",
       "CJT_GESAMTTYP              4854\n",
       "FINANZ_MINIMALIST             0\n",
       "FINANZ_SPARER                 0\n",
       "FINANZ_VORSORGER              0\n",
       "FINANZ_ANLEGER                0\n",
       "FINANZ_UNAUFFAELLIGER         0\n",
       "FINANZ_HAUSBAUER              0\n",
       "FINANZTYP                     0\n",
       "GEBURTSJAHR              392318\n",
       "GFK_URLAUBERTYP            4854\n",
       "GREEN_AVANTGARDE              0\n",
       "HEALTH_TYP               111196\n",
       "LP_LEBENSPHASE_FEIN       97632\n",
       "LP_LEBENSPHASE_GROB       94572\n",
       "LP_FAMILIE_FEIN           77792\n",
       "LP_FAMILIE_GROB           77792\n",
       "LP_STATUS_FEIN             4854\n",
       "LP_STATUS_GROB             4854\n",
       "NATIONALITAET_KZ         108315\n",
       "PRAEGENDE_JUGENDJAHRE    108164\n",
       "RETOURTYP_BK_S             4854\n",
       "SEMIO_SOZ                     0\n",
       "SEMIO_FAM                     0\n",
       "SEMIO_REL                     0\n",
       "SEMIO_MAT                     0\n",
       "SEMIO_VERT                    0\n",
       "SEMIO_LUST                    0\n",
       "                          ...  \n",
       "OST_WEST_KZ               93148\n",
       "WOHNLAGE                  93148\n",
       "CAMEO_DEUG_2015           99352\n",
       "CAMEO_DEU_2015            99352\n",
       "CAMEO_INTL_2015           99352\n",
       "KBA05_ANTG1              133324\n",
       "KBA05_ANTG2              133324\n",
       "KBA05_ANTG3              133324\n",
       "KBA05_ANTG4              133324\n",
       "KBA05_BAUMAX             476524\n",
       "KBA05_GBZ                133324\n",
       "BALLRAUM                  93740\n",
       "EWDICHTE                  93740\n",
       "INNENSTADT                93740\n",
       "GEBAEUDETYP_RASTER        93155\n",
       "KKK                      158064\n",
       "MOBI_REGIO               133324\n",
       "ONLINE_AFFINITAET          4854\n",
       "REGIOTYP                 158064\n",
       "KBA13_ANZAHL_PKW         105800\n",
       "PLZ8_ANTG1               116515\n",
       "PLZ8_ANTG2               116515\n",
       "PLZ8_ANTG3               116515\n",
       "PLZ8_ANTG4               116515\n",
       "PLZ8_BAUMAX              116515\n",
       "PLZ8_HHZ                 116515\n",
       "PLZ8_GBZ                 116515\n",
       "ARBEIT                    97375\n",
       "ORTSGR_KLS9               97274\n",
       "RELAT_AB                  97375\n",
       "Length: 85, dtype: int64"
      ]
     },
     "execution_count": 1141,
     "metadata": {},
     "output_type": "execute_result"
    }
   ],
   "source": [
    "# Perform an assessment of how much missing data there is in each column of the\n",
    "# dataset.\n",
    "azdias_clean.isnull().sum()"
   ]
  },
  {
   "cell_type": "code",
   "execution_count": 1142,
   "metadata": {
    "scrolled": true
   },
   "outputs": [
    {
     "data": {
      "image/png": "[encoded data removed]",
      "text/plain": [
       "<Figure size 432x288 with 1 Axes>"
      ]
     },
     "metadata": {},
     "output_type": "display_data"
    }
   ],
   "source": [
    "# Investigate patterns in the amount of missing data in each column.\n",
    "plt.hist(azdias_clean.isnull().sum(), bins=40);"
   ]
  },
  {
   "cell_type": "markdown",
   "metadata": {},
   "source": [
    "columns that have more than 200000 missing values should be considered outliers."
   ]
  },
  {
   "cell_type": "code",
   "execution_count": 1145,
   "metadata": {
    "scrolled": true
   },
   "outputs": [
    {
     "data": {
      "text/plain": [
       "['AGER_TYP',\n",
       " 'GEBURTSJAHR',\n",
       " 'TITEL_KZ',\n",
       " 'ALTER_HH',\n",
       " 'KK_KUNDENTYP',\n",
       " 'KBA05_BAUMAX']"
      ]
     },
     "execution_count": 1145,
     "metadata": {},
     "output_type": "execute_result"
    }
   ],
   "source": [
    "# find columns that have more 200000 missing values\n",
    "columns_to_drop = list(num_missing[num_missing['after_replacing'] > 200000].index)\n",
    "columns_to_drop"
   ]
  },
  {
   "cell_type": "markdown",
   "metadata": {},
   "source": [
    "Remove the outlier columns from the dataset."
   ]
  },
  {
   "cell_type": "code",
   "execution_count": 1146,
   "metadata": {},
   "outputs": [],
   "source": [
    "# remove these columns from azdias_clean\n",
    "azdias_clean.drop(columns_to_drop, inplace=True, axis=1)\n",
    "\n",
    "#remove these columns from feat_info_clean\n",
    "#find the index of these columns\n",
    "index_to_drop = [feat_info_clean[feat_info_clean['attribute']==col].index for col in columns_to_drop]\n",
    "#drop the rows that match the indexes\n",
    "for ind in index_to_drop:\n",
    "    feat_info_clean.drop(index=ind, inplace=True)"
   ]
  },
  {
   "cell_type": "code",
   "execution_count": 1147,
   "metadata": {
    "scrolled": false
   },
   "outputs": [
    {
     "data": {
      "image/png": "[encoded data removed]",
      "text/plain": [
       "<Figure size 432x288 with 1 Axes>"
      ]
     },
     "metadata": {},
     "output_type": "display_data"
    }
   ],
   "source": [
    "# view distribution of missing values again\n",
    "plt.hist(azdias_clean.isnull().sum(), bins=azdias_clean.shape[1]);"
   ]
  },
  {
   "cell_type": "markdown",
   "metadata": {},
   "source": [
    "#### Discussion 1.1.2: Assess Missing Data in Each Column\n",
    "\n",
    "These columns have more than 200000 missing values and they were dropped from the data from: <br>\n",
    "'AGER_TYP', 'GEBURTSJAHR', 'TITEL_KZ', 'ALTER_HH', 'KK_KUNDENTYP', 'KBA05_BAUMAX'\n"
   ]
  },
  {
   "cell_type": "markdown",
   "metadata": {},
   "source": [
    "#### Step 1.1.3: Assess Missing Data in Each Row\n",
    "\n",
    "Now, you'll perform a similar assessment for the rows of the dataset. How much data is missing in each row? As with the columns, you should see some groups of points that have a very different numbers of missing values. Divide the data into two subsets: one for data points that are above some threshold for missing values, and a second subset for points below that threshold.\n",
    "\n",
    "In order to know what to do with the outlier rows, we should see if the distribution of data values on columns that are not missing data (or are missing very little data) are similar or different between the two groups. Select at least five of these columns and compare the distribution of values.\n",
    "- You can use seaborn's [`countplot()`](https://seaborn.pydata.org/generated/seaborn.countplot.html) function to create a bar chart of code frequencies and matplotlib's [`subplot()`](https://matplotlib.org/api/_as_gen/matplotlib.pyplot.subplot.html) function to put bar charts for the two subplots side by side.\n",
    "- To reduce repeated code, you might want to write a function that can perform this comparison, taking as one of its arguments a column to be compared.\n",
    "\n",
    "Depending on what you observe in your comparison, this will have implications on how you approach your conclusions later in the analysis. If the distributions of non-missing features look similar between the data with many missing values and the data with few or no missing values, then we could argue that simply dropping those points from the analysis won't present a major issue. On the other hand, if the data with many missing values looks very different from the data with few or no missing values, then we should make a note on those data as special. We'll revisit these data later on. **Either way, you should continue your analysis for now using just the subset of the data with few or no missing values.**"
   ]
  },
  {
   "cell_type": "code",
   "execution_count": 1148,
   "metadata": {
    "scrolled": false
   },
   "outputs": [
    {
     "data": {
      "image/png": "[encoded data removed]",
      "text/plain": [
       "<Figure size 432x288 with 1 Axes>"
      ]
     },
     "metadata": {},
     "output_type": "display_data"
    }
   ],
   "source": [
    "# How much data is missing in each row of the dataset?\n",
    "# number of missing values of each row is saved to a new column 'num_missing_values'\n",
    "azdias_clean['num_missing_values'] = azdias_clean.isnull().sum(axis=1)\n",
    "plt.hist(azdias_clean['num_missing_values'], bins=azdias_clean['num_missing_values'].max());"
   ]
  },
  {
   "cell_type": "markdown",
   "metadata": {},
   "source": [
    "divide the data into two subsets based on the number of missing values in each row"
   ]
  },
  {
   "cell_type": "code",
   "execution_count": 1014,
   "metadata": {},
   "outputs": [],
   "source": [
    "# threshold of number of missing values is set to 5\n",
    "\n",
    "azdias_clean_lessNaN = azdias_clean[azdias_clean['num_missing_values'] <=5].copy()\n",
    "azdias_clean_moreNaN = azdias_clean[azdias_clean['num_missing_values'] > 5].copy()"
   ]
  },
  {
   "cell_type": "code",
   "execution_count": 1015,
   "metadata": {},
   "outputs": [
    {
     "data": {
      "text/plain": [
       "((719624, 80), (171597, 80))"
      ]
     },
     "execution_count": 1015,
     "metadata": {},
     "output_type": "execute_result"
    }
   ],
   "source": [
    "azdias_clean_lessNaN.shape, azdias_clean_moreNaN.shape"
   ]
  },
  {
   "cell_type": "markdown",
   "metadata": {},
   "source": [
    "Compare the distribution of values for at least five columns where there are no or few missing values, between the two subsets."
   ]
  },
  {
   "cell_type": "code",
   "execution_count": 1016,
   "metadata": {},
   "outputs": [],
   "source": [
    "columns = ['BALLRAUM', 'EWDICHTE', 'WOHNLAGE', 'KONSUMNAEHE', 'GEBAEUDETYP']"
   ]
  },
  {
   "cell_type": "code",
   "execution_count": 1017,
   "metadata": {
    "scrolled": false
   },
   "outputs": [],
   "source": [
    "# define a function to compare distribution of a column in two datasets\n",
    "def compare_distrib(col_name, col1, col2):\n",
    "    '''compare distribution of column1 and column2. \n",
    "    col_name is the name of column.\n",
    "    column1 is values of the column from data set with few or no missing values. \n",
    "    column2 is values of the column from data set with more missing values'''\n",
    "    col1_val_counts = col1.value_counts()\n",
    "    col1_x = col1_val_counts.index\n",
    "    col1_y = col1_val_counts/sum(col1_val_counts)\n",
    "    plt.bar(x=col1_x, height=col1_y, alpha=0.5,\n",
    "             color='red', label='dataset with less missing values')\n",
    "    \n",
    "    col2_val_counts = col2.value_counts()\n",
    "    col2_x = col2_val_counts.index\n",
    "    col2_y = col2_val_counts/sum(col2_val_counts)\n",
    "    plt.bar(x=col2_x, height=col2_y, alpha=0.5,\n",
    "             color='green', label='dataset with more missing values')\n",
    "    plt.xlabel('unique values')\n",
    "    plt.ylabel('percentage')\n",
    "    plt.legend()\n",
    "    plt.title('compare ' + col_name + ' of datasets of less and more missing values')"
   ]
  },
  {
   "cell_type": "code",
   "execution_count": 1018,
   "metadata": {},
   "outputs": [
    {
     "data": {
      "image/png": "[encoded data removed]",
      "text/plain": [
       "<Figure size 432x2016 with 5 Axes>"
      ]
     },
     "metadata": {},
     "output_type": "display_data"
    }
   ],
   "source": [
    "plt.figure(figsize=(6,28))\n",
    "for i,col in enumerate(columns):\n",
    "    plot_index=int('5'+'1'+str(i+1))\n",
    "    plt.subplot(plot_index)\n",
    "    compare_distrib(col, azdias_clean_lessNaN[col], azdias_clean_moreNaN[col])"
   ]
  },
  {
   "cell_type": "code",
   "execution_count": 1019,
   "metadata": {},
   "outputs": [],
   "source": [
    "# drop the column 'num_missing_values' from the 3 data frames\n",
    "azdias_clean.drop(columns = ['num_missing_values'], inplace = True)\n",
    "azdias_clean_lessNaN.drop(columns = ['num_missing_values'], inplace = True)\n",
    "azdias_clean_moreNaN.drop(columns = ['num_missing_values'], inplace = True)"
   ]
  },
  {
   "cell_type": "markdown",
   "metadata": {},
   "source": [
    "#### Discussion 1.1.3: Assess Missing Data in Each Row\n",
    "\n",
    "Among the 5 randomly picked columns, 2 columns, 'EWDICHTE', 'WOHNLAGE', show very different distributions between the 2 datasets. Other 3 columns show similar distribution. Based on observation made on these 5 columns, I would say that datasets with few or no missing values do have different distributions from the dataset with more missing values."
   ]
  },
  {
   "cell_type": "markdown",
   "metadata": {},
   "source": [
    "### Step 1.2: Select and Re-Encode Features\n",
    "\n",
    "Checking for missing data isn't the only way in which you can prepare a dataset for analysis. Since the unsupervised learning techniques to be used will only work on data that is encoded numerically, you need to make a few encoding changes or additional assumptions to be able to make progress. In addition, while almost all of the values in the dataset are encoded using numbers, not all of them represent numeric values. Check the third column of the feature summary (`feat_info`) for a summary of types of measurement.\n",
    "- For numeric and interval data, these features can be kept without changes.\n",
    "- Most of the variables in the dataset are ordinal in nature. While ordinal values may technically be non-linear in spacing, make the simplifying assumption that the ordinal variables can be treated as being interval in nature (that is, kept without any changes).\n",
    "- Special handling may be necessary for the remaining two variable types: categorical, and 'mixed'.\n",
    "\n",
    "In the first two parts of this sub-step, you will perform an investigation of the categorical and mixed-type features and make a decision on each of them, whether you will keep, drop, or re-encode each. Then, in the last part, you will create a new data frame with only the selected and engineered columns.\n",
    "\n",
    "Data wrangling is often the trickiest part of the data analysis process, and there's a lot of it to be done here. But stick with it: once you're done with this step, you'll be ready to get to the machine learning parts of the project!"
   ]
  },
  {
   "cell_type": "code",
   "execution_count": 1020,
   "metadata": {
    "scrolled": true
   },
   "outputs": [
    {
     "data": {
      "text/plain": [
       "ordinal        49\n",
       "categorical    18\n",
       "mixed           6\n",
       "numeric         6\n",
       "Name: type, dtype: int64"
      ]
     },
     "execution_count": 1020,
     "metadata": {},
     "output_type": "execute_result"
    }
   ],
   "source": [
    "# How many features are there of each data type?\n",
    "feat_info_clean['type'].value_counts()"
   ]
  },
  {
   "cell_type": "markdown",
   "metadata": {},
   "source": [
    "#### Step 1.2.1: Re-Encode Categorical Features\n",
    "\n",
    "For categorical data, you would ordinarily need to encode the levels as dummy variables. Depending on the number of categories, perform one of the following:\n",
    "- For binary (two-level) categoricals that take numeric values, you can keep them without needing to do anything.\n",
    "- There is one binary variable that takes on non-numeric values. For this one, you need to re-encode the values as numbers or create a dummy variable.\n",
    "- For multi-level categoricals (three or more values), you can choose to encode the values using multiple dummy variables (e.g. via [OneHotEncoder](http://scikit-learn.org/stable/modules/generated/sklearn.preprocessing.OneHotEncoder.html)), or (to keep things straightforward) just drop them from the analysis. As always, document your choices in the Discussion section."
   ]
  },
  {
   "cell_type": "markdown",
   "metadata": {},
   "source": [
    "Assess categorical variables: which are binary, which are multi-level, and which one needs to be re-encoded?"
   ]
  },
  {
   "cell_type": "code",
   "execution_count": 1021,
   "metadata": {
    "scrolled": true
   },
   "outputs": [],
   "source": [
    "# find the categorical columns\n",
    "categorical_columns = feat_info_clean[feat_info_clean['type'] == 'categorical']['attribute']"
   ]
  },
  {
   "cell_type": "code",
   "execution_count": 1022,
   "metadata": {},
   "outputs": [],
   "source": [
    "# create a dictionary of categorical columns with their number of levels\n",
    "cat_col_values = {col: azdias[col].value_counts().shape[0] for col in categorical_columns}"
   ]
  },
  {
   "cell_type": "code",
   "execution_count": 1023,
   "metadata": {
    "scrolled": true
   },
   "outputs": [
    {
     "data": {
      "text/plain": [
       "{'ANREDE_KZ': 2,\n",
       " 'CJT_GESAMTTYP': 6,\n",
       " 'FINANZTYP': 6,\n",
       " 'GFK_URLAUBERTYP': 12,\n",
       " 'GREEN_AVANTGARDE': 2,\n",
       " 'LP_FAMILIE_FEIN': 12,\n",
       " 'LP_FAMILIE_GROB': 6,\n",
       " 'LP_STATUS_FEIN': 10,\n",
       " 'LP_STATUS_GROB': 5,\n",
       " 'NATIONALITAET_KZ': 4,\n",
       " 'SHOPPER_TYP': 5,\n",
       " 'SOHO_KZ': 2,\n",
       " 'VERS_TYP': 3,\n",
       " 'ZABEOTYP': 6,\n",
       " 'GEBAEUDETYP': 7,\n",
       " 'OST_WEST_KZ': 2,\n",
       " 'CAMEO_DEUG_2015': 10,\n",
       " 'CAMEO_DEU_2015': 45}"
      ]
     },
     "execution_count": 1023,
     "metadata": {},
     "output_type": "execute_result"
    }
   ],
   "source": [
    "cat_col_values"
   ]
  },
  {
   "cell_type": "code",
   "execution_count": 1024,
   "metadata": {},
   "outputs": [
    {
     "data": {
      "text/plain": [
       "(array([2, 1], dtype=int64), array([1., 0.]), array(['W', 'O'], dtype=object))"
      ]
     },
     "execution_count": 1024,
     "metadata": {},
     "output_type": "execute_result"
    }
   ],
   "source": [
    "# view encodings of the binary columns\n",
    "azdias_clean_lessNaN['ANREDE_KZ'].unique(), azdias_clean_lessNaN['SOHO_KZ'].unique(), azdias_clean_lessNaN['OST_WEST_KZ'].unique()"
   ]
  },
  {
   "cell_type": "markdown",
   "metadata": {},
   "source": [
    "binary categorical columns are :'ANREDE_KZ', 'SOHO_KZ', 'OST_WEST_KZ'. <br>\n",
    "values of the column **'OST_WEST_KZ'** are not numerical. It needs to be reencoded. <br>\n",
    "all other categorical columns are multi-level. <br>\n",
    "columns that have 10 or more levels are to be dropped."
   ]
  },
  {
   "cell_type": "markdown",
   "metadata": {},
   "source": [
    "reencode 'OST_WEST_KZ' with integer 1 for West Germany, and 2 for East Germany"
   ]
  },
  {
   "cell_type": "code",
   "execution_count": 1025,
   "metadata": {},
   "outputs": [
    {
     "data": {
      "text/plain": [
       "1    564460\n",
       "2    155164\n",
       "Name: OST_WEST_KZ, dtype: int64"
      ]
     },
     "execution_count": 1025,
     "metadata": {},
     "output_type": "execute_result"
    }
   ],
   "source": [
    "# Re-encode categorical variable(s) to be kept in the analysis.\n",
    "azdias_clean_lessNaN['OST_WEST_KZ_num'] = (azdias_clean_lessNaN['OST_WEST_KZ'] == 'W') *1 +(azdias_clean_lessNaN['OST_WEST_KZ'] == 'O') *2\n",
    "\n",
    "# drop the column 'OST_WEST_KZ', and rename 'OST_WEST_KZ_num' to 'OST_WEST_KZ'\n",
    "azdias_clean_lessNaN.drop(columns = ['OST_WEST_KZ'], inplace=True)\n",
    "azdias_clean_lessNaN.rename(columns = {'OST_WEST_KZ_num': 'OST_WEST_KZ'}, inplace=True)\n",
    "\n",
    "# drop row of 'OST_WEST_KZ' from feat_info_clean\n",
    "ind = feat_info_clean[feat_info_clean['attribute']=='OST_WEST_KZ'].index\n",
    "feat_info_clean.drop(index=ind, inplace=True)\n",
    "\n",
    "# check if coding were successfully changed\n",
    "azdias_clean_lessNaN['OST_WEST_KZ'].value_counts()"
   ]
  },
  {
   "cell_type": "markdown",
   "metadata": {},
   "source": [
    "drop columns that have 3 or more categorical levels"
   ]
  },
  {
   "cell_type": "code",
   "execution_count": 1053,
   "metadata": {},
   "outputs": [
    {
     "data": {
      "text/plain": [
       "['CJT_GESAMTTYP',\n",
       " 'FINANZTYP',\n",
       " 'GFK_URLAUBERTYP',\n",
       " 'LP_FAMILIE_FEIN',\n",
       " 'LP_FAMILIE_GROB',\n",
       " 'LP_STATUS_FEIN',\n",
       " 'LP_STATUS_GROB',\n",
       " 'NATIONALITAET_KZ',\n",
       " 'SHOPPER_TYP',\n",
       " 'VERS_TYP',\n",
       " 'ZABEOTYP',\n",
       " 'GEBAEUDETYP',\n",
       " 'CAMEO_DEUG_2015',\n",
       " 'CAMEO_DEU_2015']"
      ]
     },
     "execution_count": 1053,
     "metadata": {},
     "output_type": "execute_result"
    }
   ],
   "source": [
    "multi_lev_cols"
   ]
  },
  {
   "cell_type": "code",
   "execution_count": 1026,
   "metadata": {
    "scrolled": false
   },
   "outputs": [],
   "source": [
    "# find columns that have more than 3 categorical levels\n",
    "multi_lev_cols = [col for col in cat_col_values if cat_col_values[col] >= 3]\n",
    "\n",
    "# drop the multi_lev_cols columns from azdias_clean_lessNaN\n",
    "azdias_clean_lessNaN.drop(columns = multi_lev_cols, inplace = True)\n",
    "\n",
    "# drop these info for these columns from feat_info_clean\n",
    "index_to_drop = [feat_info_clean[feat_info_clean['attribute']==col].index for col in multi_lev_cols]\n",
    "for ind in index_to_drop:\n",
    "    feat_info_clean.drop(index=ind, inplace=True)"
   ]
  },
  {
   "cell_type": "markdown",
   "metadata": {},
   "source": [
    "#### Discussion 1.2.1: Re-Encode Categorical Features\n",
    "\n",
    "After dropping columns that have more than 200000 missing values, 18 of the remaining columns contain categorical values. <br>\n",
    " - These 2 columns contain binary categorical values that are numerical, and I am keeping them: 'ANREDE_KZ', 'SOHO_KZ'.  <br>\n",
    " - The 'OST_WEST_KZ' column is encoded with non-numerical values. I re-encoded this column using integer 1 for West Germany and 2 for East Germany. <br>\n",
    " - Categorical columns that contain 3 or more levels are dropped"
   ]
  },
  {
   "cell_type": "markdown",
   "metadata": {},
   "source": [
    "#### Step 1.2.2: Engineer Mixed-Type Features\n",
    "\n",
    "There are a handful of features that are marked as \"mixed\" in the feature summary that require special treatment in order to be included in the analysis. There are two in particular that deserve attention; the handling of the rest are up to your own choices:\n",
    "- \"PRAEGENDE_JUGENDJAHRE\" combines information on three dimensions: generation by decade, movement (mainstream vs. avantgarde), and nation (east vs. west). While there aren't enough levels to disentangle east from west, you should create two new variables to capture the other two dimensions: an interval-type variable for decade, and a binary variable for movement.\n",
    "- \"CAMEO_INTL_2015\" combines information on two axes: wealth and life stage. Break up the two-digit codes by their 'tens'-place and 'ones'-place digits into two new ordinal variables (which, for the purposes of this project, is equivalent to just treating them as their raw numeric values).\n",
    "- If you decide to keep or engineer new features around the other mixed-type features, make sure you note your steps in the Discussion section.\n",
    "\n",
    "Be sure to check `Data_Dictionary.md` for the details needed to finish these tasks."
   ]
  },
  {
   "cell_type": "markdown",
   "metadata": {},
   "source": [
    "##### Investigate \"PRAEGENDE_JUGENDJAHRE\" and engineer two new variables.\n",
    "Values of \"PRAEGENDE_JUGENDJAHRE\" are floats. I need to convert them to integers before proceeding. <br>\n",
    "Values 1,3,5,8,10,12,14 \"PRAEGENDE_JUGENDJAHRE\" encode mainstream movement, and other values encode avantgarde movement.<br>\n",
    "The decades are 40,50,60,70,80 and 90"
   ]
  },
  {
   "cell_type": "code",
   "execution_count": 1027,
   "metadata": {},
   "outputs": [],
   "source": [
    "#convert dtype to int, fill NaN with 0\n",
    "azdias_clean_lessNaN[\"PRAEGENDE_JUGENDJAHRE\"].fillna(0, inplace=True)\n",
    "azdias_clean_lessNaN[\"PRAEGENDE_JUGENDJAHRE\"] = azdias_clean_lessNaN[\"PRAEGENDE_JUGENDJAHRE\"].astype(int)"
   ]
  },
  {
   "cell_type": "code",
   "execution_count": 1028,
   "metadata": {
    "scrolled": true
   },
   "outputs": [],
   "source": [
    "# create a dictionary that relate encoding to decades:\n",
    "dec_dic={1:40, 2:40, 3:50, 4:50, 5:60, 6:60, 7:60, 8:70, \n",
    "         9:70, 10:80, 11:80, 12:80, 13:80, 14:90, 15:90,\n",
    "        0: np.NaN}\n",
    "\n",
    "# create a dictionary that relate encoding to movements:\n",
    "mov_dic={1:1, 2:2, 3:1, 4:2, \n",
    "         5:1, 6:2, 7:2, 8:1, \n",
    "         9:2, 10:1, 11:2, 12:1,\n",
    "         13:2, 14:1, 15:2,\n",
    "        0: np.NaN}\n",
    "\n",
    "# create a new column 'movemnet_decade'\n",
    "azdias_clean_lessNaN['movement_decade'] = azdias_clean_lessNaN[\"PRAEGENDE_JUGENDJAHRE\"]\n",
    "azdias_clean_lessNaN['movement_decade'] = azdias_clean_lessNaN['movement_decade'].apply(lambda x: dec_dic[x])\n",
    "\n",
    "# create a new column 'movemnet'\n",
    "azdias_clean_lessNaN['movement'] = azdias_clean_lessNaN[\"PRAEGENDE_JUGENDJAHRE\"]\n",
    "azdias_clean_lessNaN['movement'] = azdias_clean_lessNaN['movement'].apply(lambda x: mov_dic[x])"
   ]
  },
  {
   "cell_type": "code",
   "execution_count": 1029,
   "metadata": {},
   "outputs": [
    {
     "data": {
      "text/plain": [
       "(array([90., 70., 50., 80., 60., nan, 40.]), array([ 1.,  2., nan]))"
      ]
     },
     "execution_count": 1029,
     "metadata": {},
     "output_type": "execute_result"
    }
   ],
   "source": [
    "# check values of the new columns\n",
    "azdias_clean_lessNaN['movement_decade'].unique(), azdias_clean_lessNaN['movement'].unique()"
   ]
  },
  {
   "cell_type": "code",
   "execution_count": 1030,
   "metadata": {},
   "outputs": [],
   "source": [
    "# drop the column \"PRAEGENDE_JUGENDJAHRE\"\n",
    "azdias_clean_lessNaN.drop(columns=[\"PRAEGENDE_JUGENDJAHRE\"], inplace=True)\n",
    "\n",
    "# drop info for \"PRAEGENDE_JUGENDJAHRE\" from feat_info_clean\n",
    "ind = feat_info_clean[feat_info_clean['attribute']==\"PRAEGENDE_JUGENDJAHRE\"].index\n",
    "feat_info_clean.drop(index=ind, inplace=True)"
   ]
  },
  {
   "cell_type": "markdown",
   "metadata": {},
   "source": [
    "##### Investigate \"CAMEO_INTL_2015\" and engineer two new variables.\n",
    "For each code of this column, the tens digit represents wealth, and the one digit represents life stage. Currently the values are strings."
   ]
  },
  {
   "cell_type": "code",
   "execution_count": 1031,
   "metadata": {},
   "outputs": [
    {
     "data": {
      "text/plain": [
       "array(['51', '24', '43', '54', '22', '14', '13', '15', '34', '55', '33',\n",
       "       '12', '41', '25', nan, '23', '31', '52', '35', '45', '44', '32'],\n",
       "      dtype=object)"
      ]
     },
     "execution_count": 1031,
     "metadata": {},
     "output_type": "execute_result"
    }
   ],
   "source": [
    "azdias_clean_lessNaN[\"CAMEO_INTL_2015\"].unique()"
   ]
  },
  {
   "cell_type": "code",
   "execution_count": 1032,
   "metadata": {},
   "outputs": [
    {
     "data": {
      "text/plain": [
       "array(['51', '24', '43', '54', '22', '14', '13', '15', '34', '55', '33',\n",
       "       '12', '41', '25', '00', '23', '31', '52', '35', '45', '44', '32'],\n",
       "      dtype=object)"
      ]
     },
     "execution_count": 1032,
     "metadata": {},
     "output_type": "execute_result"
    }
   ],
   "source": [
    "# replace NaN with 0 \n",
    "azdias_clean_lessNaN[\"CAMEO_INTL_2015\"].replace(np.NaN, '00', inplace=True)\n",
    "azdias_clean_lessNaN['CAMEO_INTL_2015'].unique()"
   ]
  },
  {
   "cell_type": "code",
   "execution_count": 1033,
   "metadata": {},
   "outputs": [],
   "source": [
    "# create a new column 'wealth' whose value is the tens digit of the value of 'CAMEO_INTL_2015'\n",
    "azdias_clean_lessNaN['wealth'] = azdias_clean_lessNaN['CAMEO_INTL_2015']\n",
    "azdias_clean_lessNaN['wealth'] = azdias_clean_lessNaN['wealth'].apply(lambda x: int(x[0]))\n",
    "azdias_clean_lessNaN['wealth'].replace(0, np.NaN, inplace=True)\n",
    "\n",
    "# create a new column 'life_stage' whose value is the ones digit of the value of 'CAMEO_INTL_2015'\n",
    "azdias_clean_lessNaN['life_stage'] = azdias_clean_lessNaN['CAMEO_INTL_2015']\n",
    "azdias_clean_lessNaN['life_stage'] = azdias_clean_lessNaN['life_stage'].apply(lambda x: int(x[1]))\n",
    "azdias_clean_lessNaN['life_stage'].replace(0, np.NaN, inplace=True)\n",
    "\n",
    "# drop the column 'CAMEO_INTL_2015'\n",
    "azdias_clean_lessNaN.drop(columns=['CAMEO_INTL_2015'], inplace=True)\n",
    "\n",
    "# drop infor for 'CAMEO_INTL_2015' from feat_info_clean\n",
    "ind = feat_info_clean[feat_info_clean['attribute']=='CAMEO_INTL_2015'].index\n",
    "feat_info_clean.drop(index=ind, inplace=True)"
   ]
  },
  {
   "cell_type": "code",
   "execution_count": 1034,
   "metadata": {},
   "outputs": [
    {
     "data": {
      "text/plain": [
       "(array([ 5.,  2.,  4.,  1.,  3., nan]), array([ 1.,  4.,  3.,  2.,  5., nan]))"
      ]
     },
     "execution_count": 1034,
     "metadata": {},
     "output_type": "execute_result"
    }
   ],
   "source": [
    "azdias_clean_lessNaN['wealth'].unique(), azdias_clean_lessNaN['life_stage'].unique()"
   ]
  },
  {
   "cell_type": "markdown",
   "metadata": {},
   "source": [
    "#### Discussion 1.2.2: Engineer Mixed-Type Features\n",
    "\n",
    " - 2 new columns, 'movement' and 'movement_decade' are extracted from the mixed column \"PRAEGENDE_JUGENDJAHRE\".  And the original column was dropped. <br>\n",
    " - 2 new columns, 'wealth' and 'life_stage' are extracted from the mixed column 'CAMEO_INTL_2015' . And the original column was dropped. "
   ]
  },
  {
   "cell_type": "markdown",
   "metadata": {},
   "source": [
    "#### Step 1.2.3: Complete Feature Selection\n",
    "\n",
    "In order to finish this step up, you need to make sure that your data frame now only has the columns that you want to keep. To summarize, the dataframe should consist of the following:\n",
    "- All numeric, interval, and ordinal type columns from the original dataset.\n",
    "- Binary categorical features (all numerically-encoded).\n",
    "- Engineered features from other multi-level categorical features and mixed features.\n",
    "\n",
    "Make sure that for any new columns that you have engineered, that you've excluded the original columns from the final dataset. Otherwise, their values will interfere with the analysis later on the project. For example, you should not keep \"PRAEGENDE_JUGENDJAHRE\", since its values won't be useful for the algorithm: only the values derived from it in the engineered features you created should be retained. As a reminder, your data should only be from **the subset with few or no missing values**."
   ]
  },
  {
   "cell_type": "markdown",
   "metadata": {},
   "source": [
    "### Step 1.3: Create a Cleaning Function\n",
    "\n",
    "Even though you've finished cleaning up the general population demographics data, it's important to look ahead to the future and realize that you'll need to perform the same cleaning steps on the customer demographics data. In this substep, complete the function below to execute the main feature selection, encoding, and re-engineering steps you performed above. Then, when it comes to looking at the customer data in Step 3, you can just run this function on that DataFrame to get the trimmed dataset in a single step."
   ]
  },
  {
   "cell_type": "code",
   "execution_count": 1035,
   "metadata": {},
   "outputs": [],
   "source": [
    "def clean_data(df, cols_to_drop, feat_info):\n",
    "    \"\"\"\n",
    "    Perform feature trimming, re-encoding, and engineering for demographics\n",
    "    data\n",
    "\n",
    "    INPUT: Demographics DataFrame\n",
    "    OUTPUT: Trimmed and cleaned demographics DataFrame\n",
    "    \"\"\"\n",
    "\n",
    "    # Put in code here to execute all main cleaning steps:\n",
    "    # convert missing value codes into NaNs, ...\n",
    "    # drop the columns that had too many missing values, \n",
    "    # or have 3 or more levels of categorical values, in general population data\n",
    "    for col in cols_to_drop:\n",
    "        if col in df.columns:\n",
    "            df.drop(columns=[col], inplace=True)\n",
    "    #remove these columns from feat_info\n",
    "    #find the index of these columns\n",
    "    index_to_drop = [feat_info[feat_info['attribute']==col].index for col in columns_to_drop]\n",
    "    #drop the rows that match the indexes\n",
    "    for ind in index_to_drop:\n",
    "        feat_info.drop(index=ind, inplace=True)\n",
    "    \n",
    "    # find attributes of feat_info that are not a column of df:\n",
    "            \n",
    "    missing_cols = []\n",
    "    for attri in feat_info['attribute']:\n",
    "        if attri not in df.columns:\n",
    "            missing_cols.append(attri)\n",
    "    \n",
    "    # remove the rows of these attributes from feat_info\n",
    "    #find the index of these columns\n",
    "    index_to_drop = [feat_info[feat_info['attribute']==col].index for col in missing_cols]\n",
    "    #drop the rows that match the indexes\n",
    "    for ind in index_to_drop:\n",
    "        feat_info.drop(index=ind, inplace=True)\n",
    "    \n",
    "    feat_info['data_type']=np.array([df[column].dtype for column in df.columns])\n",
    "\n",
    "    # define a function to convert the string to lists\n",
    "    def code_for_unknown(string, data_type):\n",
    "        '''convert a string that looks like a list of integers to list of integers'''\n",
    "        if string == '[]':\n",
    "            return None\n",
    "        elements = string[1:-1].split(',')\n",
    "        if data_type == 'object':\n",
    "            return elements\n",
    "        if data_type=='int64':\n",
    "            return [int(element) for element in elements]\n",
    "        if data_type == 'float64':\n",
    "            return [float(element) for element in elements]\n",
    "\n",
    "    # store codes for missing values of each column into the data frame feat_info\n",
    "    feat_info['missing_codes']=[code_for_unknown(element, data_type) for element, data_type in zip(feat_info['missing_or_unknown'], feat_info['data_type'])]\n",
    "\n",
    "    # in the new data frame, replaces codes for missing values with NaN\n",
    "    for i, column in enumerate(feat_info['attribute']):\n",
    "        if feat_info.iloc[i,feat_info.columns.get_loc('missing_codes')] is not None:\n",
    "            df[column].replace(feat_info.iloc[i,feat_info.columns.get_loc('missing_codes')], np.NaN, inplace=True)\n",
    "\n",
    "    # remove selected rows, ...\n",
    "\n",
    "    # find the number of missing values of each row, and save them a new column 'num_missing_values'\n",
    "    df['num_missing_values'] = df.isnull().sum(axis=1)\n",
    "\n",
    "    # select rows that hava 5 or less missing values, and save them to a new dataframe\n",
    "    df_lessNaN = df[df['num_missing_values'] <=5].copy()\n",
    "\n",
    "    # drop the column 'num_missing_values' from the 2 data frames\n",
    "    df.drop(columns = ['num_missing_values'], inplace = True)\n",
    "    df_lessNaN.drop(columns = ['num_missing_values'], inplace = True)\n",
    "\n",
    "    # select, re-encode, and engineer column values.\n",
    "    # find the categorical columns\n",
    "    categorical_columns = feat_info[feat_info['type'] == 'categorical']['attribute']\n",
    "\n",
    "    # create a dictionary of categorical columns with their number of levels\n",
    "    cat_col_values = {col: df_lessNaN[col].value_counts().shape[0] for col in categorical_columns}\n",
    "\n",
    "    # Re-encode categorical variable(s) to be kept in the analysis.\n",
    "    df_lessNaN['OST_WEST_KZ_num'] = ((df_lessNaN['OST_WEST_KZ'] == 'W')) *1 +((df_lessNaN['OST_WEST_KZ'] == 'O')) *2\n",
    "\n",
    "    # drop the column 'OST_WEST_KZ', and rename 'OST_WEST_KZ_num' to 'OST_WEST_KZ'\n",
    "    df_lessNaN.drop(columns = ['OST_WEST_KZ'], inplace=True)\n",
    "    df_lessNaN.rename(columns = {'OST_WEST_KZ_num': 'OST_WEST_KZ'}, inplace=True)\n",
    "\n",
    "    # drop row of 'OST_WEST_KZ' from feat_info\n",
    "    ind = feat_info[feat_info['attribute']=='OST_WEST_KZ'].index\n",
    "    feat_info.drop(index=ind, inplace=True)\n",
    "\n",
    "    # find columns that have 3 or more categorical levels\n",
    "    multi_lev_cols = [col for col in cat_col_values if cat_col_values[col] >= 3]\n",
    "\n",
    "    # drop the multi_lev_cols columns from azdias_clean_lessNaN\n",
    "    df_lessNaN.drop(columns = multi_lev_cols, inplace = True)\n",
    "\n",
    "    # drop these info for these columns from feat_info\n",
    "    index_to_drop = [feat_info[feat_info['attribute']==col].index for col in multi_lev_cols]\n",
    "    for ind in index_to_drop:\n",
    "        feat_info.drop(index=ind, inplace=True)\n",
    "\n",
    "    # re-engineer mixed type columns, \"PRAEGENDE_JUGENDJAHRE\" and\n",
    "    #convert dtype to int, fill NaN with 0\n",
    "    df_lessNaN[\"PRAEGENDE_JUGENDJAHRE\"].fillna(0, inplace=True)\n",
    "    df_lessNaN[\"PRAEGENDE_JUGENDJAHRE\"] = df_lessNaN[\"PRAEGENDE_JUGENDJAHRE\"].astype(int)\n",
    "\n",
    "    # create a dictionary that relate encoding to decades:\n",
    "    dec_dic={1:40, 2:40, 3:50, 4:50, 5:60, 6:60, 7:60, 8:70,\n",
    "             9:70, 10:80, 11:80, 12:80, 13:80, 14:90, 15:90,\n",
    "            0: np.NaN}\n",
    "\n",
    "    # create a dictionary that relate encoding to movements:\n",
    "    mov_dic={1:1, 2:2, 3:1, 4:2,\n",
    "             5:1, 6:2, 7:2, 8:1,\n",
    "             9:2, 10:1, 11:2, 12:1,\n",
    "             13:2, 14:1, 15:2,\n",
    "            0: np.NaN}\n",
    "\n",
    "    # create a new column 'movemnet_decade'\n",
    "    df_lessNaN['movement_decade'] = df_lessNaN[\"PRAEGENDE_JUGENDJAHRE\"]\n",
    "    df_lessNaN['movement_decade'] = df_lessNaN['movement_decade'].apply(lambda x: dec_dic[x])\n",
    "\n",
    "    # create a new column 'movemnet'\n",
    "    df_lessNaN['movement'] = df_lessNaN[\"PRAEGENDE_JUGENDJAHRE\"]\n",
    "    df_lessNaN['movement'] = df_lessNaN['movement'].apply(lambda x: mov_dic[x])\n",
    "\n",
    "    # drop the column \"PRAEGENDE_JUGENDJAHRE\"\n",
    "    df_lessNaN.drop(columns=[\"PRAEGENDE_JUGENDJAHRE\"], inplace=True)\n",
    "\n",
    "    # drop info for \"PRAEGENDE_JUGENDJAHRE\" from feat_info\n",
    "    ind = feat_info[feat_info['attribute']==\"PRAEGENDE_JUGENDJAHRE\"].index\n",
    "    feat_info.drop(index=ind, inplace=True)\n",
    "\n",
    "    # re-engineer the column \"CAMEO_INTL_2015\"\n",
    "    # replace NaN with 0\n",
    "    df_lessNaN[\"CAMEO_INTL_2015\"].replace(np.NaN, '00', inplace=True)\n",
    "    df_lessNaN['CAMEO_INTL_2015'].unique()\n",
    "\n",
    "    # create a new column 'wealth' whose value is the tens digit of the value of 'CAMEO_INTL_2015'\n",
    "    df_lessNaN['wealth'] = df_lessNaN['CAMEO_INTL_2015']\n",
    "    df_lessNaN['wealth'] = df_lessNaN['wealth'].apply(lambda x: int(x[0]))\n",
    "    df_lessNaN['wealth'].replace(0, np.NaN, inplace=True)\n",
    "\n",
    "    # create a new column 'life_stage' whose value is the ones digit of the value of 'CAMEO_INTL_2015'\n",
    "    df_lessNaN['life_stage'] = df_lessNaN['CAMEO_INTL_2015']\n",
    "    df_lessNaN['life_stage'] = df_lessNaN['life_stage'].apply(lambda x: int(x[1]))\n",
    "    df_lessNaN['life_stage'].replace(0, np.NaN, inplace=True)\n",
    "\n",
    "    # drop the column 'CAMEO_INTL_2015'\n",
    "    df_lessNaN.drop(columns=['CAMEO_INTL_2015'], inplace=True)\n",
    "\n",
    "    # drop infor for 'CAMEO_INTL_2015' from feat_info\n",
    "    ind = feat_info[feat_info['attribute']=='CAMEO_INTL_2015'].index\n",
    "    feat_info.drop(index=ind, inplace=True)\n",
    "\n",
    "    # Return the cleaned dataframe.\n",
    "    return df_lessNaN\n"
   ]
  },
  {
   "cell_type": "markdown",
   "metadata": {},
   "source": [
    "## Step 2: Feature Transformation\n",
    "\n",
    "### Step 2.1: Apply Feature Scaling\n",
    "\n",
    "Before we apply dimensionality reduction techniques to the data, we need to perform feature scaling so that the principal component vectors are not influenced by the natural differences in scale for features. Starting from this part of the project, you'll want to keep an eye on the [API reference page for sklearn](http://scikit-learn.org/stable/modules/classes.html) to help you navigate to all of the classes and functions that you'll need. In this substep, you'll need to check the following:\n",
    "\n",
    "- sklearn requires that data not have missing values in order for its estimators to work properly. So, before applying the scaler to your data, make sure that you've cleaned the DataFrame of the remaining missing values. This can be as simple as just removing all data points with missing data, or applying an [Imputer](http://scikit-learn.org/stable/modules/generated/sklearn.preprocessing.Imputer.html) to replace all missing values. You might also try a more complicated procedure where you temporarily remove missing values in order to compute the scaling parameters before re-introducing those missing values and applying imputation. Think about how much missing data you have and what possible effects each approach might have on your analysis, and justify your decision in the discussion section below.\n",
    "- For the actual scaling function, a [StandardScaler](http://scikit-learn.org/stable/modules/generated/sklearn.preprocessing.StandardScaler.html) instance is suggested, scaling each feature to mean 0 and standard deviation 1.\n",
    "- For these classes, you can make use of the `.fit_transform()` method to both fit a procedure to the data as well as apply the transformation to the data at the same time. Don't forget to keep the fit sklearn objects handy, since you'll be applying them to the customer demographics data towards the end of the project."
   ]
  },
  {
   "cell_type": "code",
   "execution_count": 1036,
   "metadata": {},
   "outputs": [
    {
     "data": {
      "text/plain": [
       "0.8660203106066502"
      ]
     },
     "execution_count": 1036,
     "metadata": {},
     "output_type": "execute_result"
    }
   ],
   "source": [
    "# check proportion of rows that contain missing values\n",
    "(azdias_clean_lessNaN.isnull().sum(axis=1) ==0).mean()"
   ]
  },
  {
   "cell_type": "markdown",
   "metadata": {},
   "source": [
    "about 14% of the rows contain missing data. 14% is quite a lot, so I will apply imputer to replace the missing values."
   ]
  },
  {
   "cell_type": "code",
   "execution_count": 1037,
   "metadata": {},
   "outputs": [],
   "source": [
    "# apply imputation\n",
    "imp = Imputer(strategy = 'median')\n",
    "imp.fit(azdias_clean_lessNaN)"
   ]
  },
  {
   "cell_type": "code",
   "execution_count": 1039,
   "metadata": {},
   "outputs": [],
   "source": [
    "azdias_imp = imp.transform(azdias_clean_lessNaN)"
   ]
  },
  {
   "cell_type": "code",
   "execution_count": 1040,
   "metadata": {},
   "outputs": [],
   "source": [
    "# Apply feature scaling to the general population demographics data.\n",
    "scaler = StandardScaler()\n",
    "scaler.fit(azdias_imp)\n",
    "azdias_scaled = scaler.transform(azdias_imp)"
   ]
  },
  {
   "cell_type": "markdown",
   "metadata": {},
   "source": [
    "### Discussion 2.1: Apply Feature Scaling\n",
    "\n",
    "Missing values were cleaned by imputation, with strategy = 'median'. <br>\n",
    "Then the data set was transformed by StandardScaler"
   ]
  },
  {
   "cell_type": "markdown",
   "metadata": {},
   "source": [
    "### Step 2.2: Perform Dimensionality Reduction\n",
    "\n",
    "On your scaled data, you are now ready to apply dimensionality reduction techniques.\n",
    "\n",
    "- Use sklearn's [PCA](http://scikit-learn.org/stable/modules/generated/sklearn.decomposition.PCA.html) class to apply principal component analysis on the data, thus finding the vectors of maximal variance in the data. To start, you should not set any parameters (so all components are computed) or set a number of components that is at least half the number of features (so there's enough features to see the general trend in variability).\n",
    "- Check out the ratio of variance explained by each principal component as well as the cumulative variance explained. Try plotting the cumulative or sequential values using matplotlib's [`plot()`](https://matplotlib.org/api/_as_gen/matplotlib.pyplot.plot.html) function. Based on what you find, select a value for the number of transformed features you'll retain for the clustering part of the project.\n",
    "- Once you've made a choice for the number of components to keep, make sure you re-fit a PCA instance to perform the decided-on transformation."
   ]
  },
  {
   "cell_type": "code",
   "execution_count": 963,
   "metadata": {},
   "outputs": [],
   "source": [
    "# Apply PCA to the data.\n",
    "pca = PCA(n_components=33)\n",
    "azdias_pca = pca.fit_transform(azdias_scaled)"
   ]
  },
  {
   "cell_type": "code",
   "execution_count": 964,
   "metadata": {},
   "outputs": [],
   "source": [
    "# compute the cumulative variance explained\n",
    "cum_ratio=[sum(pca.explained_variance_ratio_[:i+1]) for i in range(pca.n_components)]"
   ]
  },
  {
   "cell_type": "code",
   "execution_count": 965,
   "metadata": {
    "scrolled": true
   },
   "outputs": [
    {
     "data": {
      "image/png": "[encoded data removed]",
      "text/plain": [
       "<Figure size 432x288 with 1 Axes>"
      ]
     },
     "metadata": {},
     "output_type": "display_data"
    }
   ],
   "source": [
    "# Investigate the variance accounted for by each principal component.\n",
    "plt.bar(x = range(pca.n_components), height = pca.explained_variance_ratio_)\n",
    "plt.plot(range(pca.n_components),cum_ratio);"
   ]
  },
  {
   "cell_type": "markdown",
   "metadata": {},
   "source": [
    "8 components seem to be where the cumulative ratio slows down, where single component ratio stays relatively unchanged. "
   ]
  },
  {
   "cell_type": "code",
   "execution_count": 966,
   "metadata": {},
   "outputs": [
    {
     "data": {
      "image/png": "[encoded data removed]",
      "text/plain": [
       "<Figure size 432x288 with 1 Axes>"
      ]
     },
     "metadata": {},
     "output_type": "display_data"
    }
   ],
   "source": [
    "# Re-apply PCA to the data while selecting for number of components to retain.\n",
    "pca = PCA(n_components=8)\n",
    "azdias_pca = pca.fit_transform(azdias_scaled)\n",
    "\n",
    "# compute the cumulative variance explained\n",
    "cum_ratio=[sum(pca.explained_variance_ratio_[:i+1]) for i in range(pca.n_components)]\n",
    "\n",
    "# Investigate the variance accounted for by each principal component.\n",
    "plt.bar(x = range(pca.n_components), height = pca.explained_variance_ratio_)\n",
    "plt.plot(range(pca.n_components),cum_ratio);"
   ]
  },
  {
   "cell_type": "markdown",
   "metadata": {},
   "source": [
    "### Discussion 2.2: Perform Dimensionality Reduction\n",
    "\n",
    "When number of components is larger than 8, there seem to be little gain of variance explained with every additional component, so I decide to retain 8 principal components. \n",
    "\n",
    "### Step 2.3: Interpret Principal Components\n",
    "\n",
    "Now that we have our transformed principal components, it's a nice idea to check out the weight of each variable on the first few components to see if they can be interpreted in some fashion.\n",
    "\n",
    "As a reminder, each principal component is a unit vector that points in the direction of highest variance (after accounting for the variance captured by earlier principal components). The further a weight is from zero, the more the principal component is in the direction of the corresponding feature. If two features have large weights of the same sign (both positive or both negative), then increases in one tend expect to be associated with increases in the other. To contrast, features with different signs can be expected to show a negative correlation: increases in one variable should result in a decrease in the other.\n",
    "\n",
    "- To investigate the features, you should map each weight to their corresponding feature name, then sort the features according to weight. The most interesting features for each principal component, then, will be those at the beginning and end of the sorted list. Use the data dictionary document to help you understand these most prominent features, their relationships, and what a positive or negative value on the principal component might indicate.\n",
    "- You should investigate and interpret feature associations from the first three principal components in this substep. To help facilitate this, you should write a function that you can call at any time to print the sorted list of feature weights, for the *i*-th principal component. This might come in handy in the next step of the project, when you interpret the tendencies of the discovered clusters."
   ]
  },
  {
   "cell_type": "code",
   "execution_count": 968,
   "metadata": {},
   "outputs": [],
   "source": [
    "# define a function that sorts weights of features in a principal component\n",
    "\n",
    "def weight_map(pc, features):\n",
    "    '''input: a principal component that is a pandas series that is an vector of features'weights. \n",
    "    The index are features, and values are weights of each feature to comp.\n",
    "    Sort values of comp, and return a dataframe that contains features and \n",
    "    absolute weights from high to low, together with original weights'''\n",
    "    weight_df = pd.DataFrame(pc, index = features, columns = ['weight'])\n",
    "    weight_df['abs_weight'] = weight_df['weight'].abs()\n",
    "    return weight_df.sort_values('abs_weight', ascending=False)"
   ]
  },
  {
   "cell_type": "code",
   "execution_count": 969,
   "metadata": {},
   "outputs": [
    {
     "data": {
      "text/html": [
       "<div>\n",
       "<style scoped>\n",
       "    .dataframe tbody tr th:only-of-type {\n",
       "        vertical-align: middle;\n",
       "    }\n",
       "\n",
       "    .dataframe tbody tr th {\n",
       "        vertical-align: top;\n",
       "    }\n",
       "\n",
       "    .dataframe thead th {\n",
       "        text-align: right;\n",
       "    }\n",
       "</style>\n",
       "<table border=\"1\" class=\"dataframe\">\n",
       "  <thead>\n",
       "    <tr style=\"text-align: right;\">\n",
       "      <th></th>\n",
       "      <th>weight</th>\n",
       "      <th>abs_weight</th>\n",
       "    </tr>\n",
       "  </thead>\n",
       "  <tbody>\n",
       "    <tr>\n",
       "      <th>MOBI_REGIO</th>\n",
       "      <td>-0.237076</td>\n",
       "      <td>0.237076</td>\n",
       "    </tr>\n",
       "    <tr>\n",
       "      <th>PLZ8_ANTG1</th>\n",
       "      <td>-0.222762</td>\n",
       "      <td>0.222762</td>\n",
       "    </tr>\n",
       "    <tr>\n",
       "      <th>PLZ8_ANTG3</th>\n",
       "      <td>0.222485</td>\n",
       "      <td>0.222485</td>\n",
       "    </tr>\n",
       "    <tr>\n",
       "      <th>KBA05_ANTG1</th>\n",
       "      <td>-0.220113</td>\n",
       "      <td>0.220113</td>\n",
       "    </tr>\n",
       "    <tr>\n",
       "      <th>PLZ8_ANTG4</th>\n",
       "      <td>0.216684</td>\n",
       "      <td>0.216684</td>\n",
       "    </tr>\n",
       "    <tr>\n",
       "      <th>KBA05_GBZ</th>\n",
       "      <td>-0.212504</td>\n",
       "      <td>0.212504</td>\n",
       "    </tr>\n",
       "    <tr>\n",
       "      <th>PLZ8_BAUMAX</th>\n",
       "      <td>0.212371</td>\n",
       "      <td>0.212371</td>\n",
       "    </tr>\n",
       "    <tr>\n",
       "      <th>FINANZ_MINIMALIST</th>\n",
       "      <td>-0.201029</td>\n",
       "      <td>0.201029</td>\n",
       "    </tr>\n",
       "    <tr>\n",
       "      <th>wealth</th>\n",
       "      <td>0.199534</td>\n",
       "      <td>0.199534</td>\n",
       "    </tr>\n",
       "    <tr>\n",
       "      <th>HH_EINKOMMEN_SCORE</th>\n",
       "      <td>0.195823</td>\n",
       "      <td>0.195823</td>\n",
       "    </tr>\n",
       "  </tbody>\n",
       "</table>\n",
       "</div>"
      ],
      "text/plain": [
       "                      weight  abs_weight\n",
       "MOBI_REGIO         -0.237076    0.237076\n",
       "PLZ8_ANTG1         -0.222762    0.222762\n",
       "PLZ8_ANTG3          0.222485    0.222485\n",
       "KBA05_ANTG1        -0.220113    0.220113\n",
       "PLZ8_ANTG4          0.216684    0.216684\n",
       "KBA05_GBZ          -0.212504    0.212504\n",
       "PLZ8_BAUMAX         0.212371    0.212371\n",
       "FINANZ_MINIMALIST  -0.201029    0.201029\n",
       "wealth              0.199534    0.199534\n",
       "HH_EINKOMMEN_SCORE  0.195823    0.195823"
      ]
     },
     "execution_count": 969,
     "metadata": {},
     "output_type": "execute_result"
    }
   ],
   "source": [
    "# Map weights for the first principal component to corresponding feature names\n",
    "# and then print the linked values, sorted by weight.\n",
    "\n",
    "features = azdias_clean_lessNaN.columns\n",
    "\n",
    "# view top 10 largest weights and features of first principal component\n",
    "weight_map(pca.components_[0], features).head(10)   "
   ]
  },
  {
   "cell_type": "code",
   "execution_count": 970,
   "metadata": {
    "scrolled": true
   },
   "outputs": [
    {
     "data": {
      "text/html": [
       "<div>\n",
       "<style scoped>\n",
       "    .dataframe tbody tr th:only-of-type {\n",
       "        vertical-align: middle;\n",
       "    }\n",
       "\n",
       "    .dataframe tbody tr th {\n",
       "        vertical-align: top;\n",
       "    }\n",
       "\n",
       "    .dataframe thead th {\n",
       "        text-align: right;\n",
       "    }\n",
       "</style>\n",
       "<table border=\"1\" class=\"dataframe\">\n",
       "  <thead>\n",
       "    <tr style=\"text-align: right;\">\n",
       "      <th></th>\n",
       "      <th>weight</th>\n",
       "      <th>abs_weight</th>\n",
       "    </tr>\n",
       "  </thead>\n",
       "  <tbody>\n",
       "    <tr>\n",
       "      <th>ALTERSKATEGORIE_GROB</th>\n",
       "      <td>0.267695</td>\n",
       "      <td>0.267695</td>\n",
       "    </tr>\n",
       "    <tr>\n",
       "      <th>SEMIO_REL</th>\n",
       "      <td>-0.266190</td>\n",
       "      <td>0.266190</td>\n",
       "    </tr>\n",
       "    <tr>\n",
       "      <th>movement_decade</th>\n",
       "      <td>-0.257806</td>\n",
       "      <td>0.257806</td>\n",
       "    </tr>\n",
       "    <tr>\n",
       "      <th>FINANZ_SPARER</th>\n",
       "      <td>-0.249574</td>\n",
       "      <td>0.249574</td>\n",
       "    </tr>\n",
       "    <tr>\n",
       "      <th>SEMIO_PFLICHT</th>\n",
       "      <td>-0.240812</td>\n",
       "      <td>0.240812</td>\n",
       "    </tr>\n",
       "    <tr>\n",
       "      <th>FINANZ_VORSORGER</th>\n",
       "      <td>0.239480</td>\n",
       "      <td>0.239480</td>\n",
       "    </tr>\n",
       "    <tr>\n",
       "      <th>SEMIO_TRADV</th>\n",
       "      <td>-0.237275</td>\n",
       "      <td>0.237275</td>\n",
       "    </tr>\n",
       "    <tr>\n",
       "      <th>SEMIO_ERL</th>\n",
       "      <td>0.235370</td>\n",
       "      <td>0.235370</td>\n",
       "    </tr>\n",
       "    <tr>\n",
       "      <th>FINANZ_UNAUFFAELLIGER</th>\n",
       "      <td>-0.231487</td>\n",
       "      <td>0.231487</td>\n",
       "    </tr>\n",
       "    <tr>\n",
       "      <th>SEMIO_KULT</th>\n",
       "      <td>-0.223511</td>\n",
       "      <td>0.223511</td>\n",
       "    </tr>\n",
       "  </tbody>\n",
       "</table>\n",
       "</div>"
      ],
      "text/plain": [
       "                         weight  abs_weight\n",
       "ALTERSKATEGORIE_GROB   0.267695    0.267695\n",
       "SEMIO_REL             -0.266190    0.266190\n",
       "movement_decade       -0.257806    0.257806\n",
       "FINANZ_SPARER         -0.249574    0.249574\n",
       "SEMIO_PFLICHT         -0.240812    0.240812\n",
       "FINANZ_VORSORGER       0.239480    0.239480\n",
       "SEMIO_TRADV           -0.237275    0.237275\n",
       "SEMIO_ERL              0.235370    0.235370\n",
       "FINANZ_UNAUFFAELLIGER -0.231487    0.231487\n",
       "SEMIO_KULT            -0.223511    0.223511"
      ]
     },
     "execution_count": 970,
     "metadata": {},
     "output_type": "execute_result"
    }
   ],
   "source": [
    "# view top 10 largest weights and features of second principal component\n",
    "weight_map(pca.components_[1], features).head(10)  "
   ]
  },
  {
   "cell_type": "code",
   "execution_count": 971,
   "metadata": {},
   "outputs": [
    {
     "data": {
      "text/html": [
       "<div>\n",
       "<style scoped>\n",
       "    .dataframe tbody tr th:only-of-type {\n",
       "        vertical-align: middle;\n",
       "    }\n",
       "\n",
       "    .dataframe tbody tr th {\n",
       "        vertical-align: top;\n",
       "    }\n",
       "\n",
       "    .dataframe thead th {\n",
       "        text-align: right;\n",
       "    }\n",
       "</style>\n",
       "<table border=\"1\" class=\"dataframe\">\n",
       "  <thead>\n",
       "    <tr style=\"text-align: right;\">\n",
       "      <th></th>\n",
       "      <th>weight</th>\n",
       "      <th>abs_weight</th>\n",
       "    </tr>\n",
       "  </thead>\n",
       "  <tbody>\n",
       "    <tr>\n",
       "      <th>ANREDE_KZ</th>\n",
       "      <td>-0.369142</td>\n",
       "      <td>0.369142</td>\n",
       "    </tr>\n",
       "    <tr>\n",
       "      <th>SEMIO_VERT</th>\n",
       "      <td>0.349132</td>\n",
       "      <td>0.349132</td>\n",
       "    </tr>\n",
       "    <tr>\n",
       "      <th>SEMIO_KAEM</th>\n",
       "      <td>-0.338871</td>\n",
       "      <td>0.338871</td>\n",
       "    </tr>\n",
       "    <tr>\n",
       "      <th>SEMIO_DOM</th>\n",
       "      <td>-0.313159</td>\n",
       "      <td>0.313159</td>\n",
       "    </tr>\n",
       "    <tr>\n",
       "      <th>SEMIO_KRIT</th>\n",
       "      <td>-0.271113</td>\n",
       "      <td>0.271113</td>\n",
       "    </tr>\n",
       "    <tr>\n",
       "      <th>SEMIO_SOZ</th>\n",
       "      <td>0.264023</td>\n",
       "      <td>0.264023</td>\n",
       "    </tr>\n",
       "    <tr>\n",
       "      <th>SEMIO_FAM</th>\n",
       "      <td>0.251355</td>\n",
       "      <td>0.251355</td>\n",
       "    </tr>\n",
       "    <tr>\n",
       "      <th>SEMIO_KULT</th>\n",
       "      <td>0.233123</td>\n",
       "      <td>0.233123</td>\n",
       "    </tr>\n",
       "    <tr>\n",
       "      <th>SEMIO_RAT</th>\n",
       "      <td>-0.215205</td>\n",
       "      <td>0.215205</td>\n",
       "    </tr>\n",
       "    <tr>\n",
       "      <th>FINANZ_ANLEGER</th>\n",
       "      <td>-0.187130</td>\n",
       "      <td>0.187130</td>\n",
       "    </tr>\n",
       "  </tbody>\n",
       "</table>\n",
       "</div>"
      ],
      "text/plain": [
       "                  weight  abs_weight\n",
       "ANREDE_KZ      -0.369142    0.369142\n",
       "SEMIO_VERT      0.349132    0.349132\n",
       "SEMIO_KAEM     -0.338871    0.338871\n",
       "SEMIO_DOM      -0.313159    0.313159\n",
       "SEMIO_KRIT     -0.271113    0.271113\n",
       "SEMIO_SOZ       0.264023    0.264023\n",
       "SEMIO_FAM       0.251355    0.251355\n",
       "SEMIO_KULT      0.233123    0.233123\n",
       "SEMIO_RAT      -0.215205    0.215205\n",
       "FINANZ_ANLEGER -0.187130    0.187130"
      ]
     },
     "execution_count": 971,
     "metadata": {},
     "output_type": "execute_result"
    }
   ],
   "source": [
    "# view top 10 largest weights and features of third principal component\n",
    "weight_map(pca.components_[2], features).head(10)  "
   ]
  },
  {
   "cell_type": "markdown",
   "metadata": {},
   "source": [
    "### Discussion 2.3: Interpret Principal Components\n",
    "\n",
    "PC1 increases in the opposite direction with these features: MOBI_REGIO, PLZ8_ANTG1, KBA05_ANTG1, KBA05_ANTG1, KBA05_GBZ, FINANZ_MINIMALIST. These are features of location. PC1 increases with increasing movement in the location, decreasing number of 1-2 family houses in PLZ8 region, and decreasing number of 1-2 family houses in the microcell, decreasing number of building in the microcell, and decreasing financial interest.<br>\n",
    "PC1 increases in same direction with these features: PLZ8_ANTG3, PLZ8_ANTG4, PLZ8_BAUMAX and Wealth. Therefore, PC1 increases with increasing number of 6-10 family houses in PLZ8 region, number of 10+ family houses, and proportion of business buildings, decreasing wealth. <br>\n",
    "\n",
    "These features are in opposite direction of PC2: SEMIO_REL, movement_decade, FINANZ_SPARER, SEMIO_PFLICHT, SEMIO_TRADV, FINANZ_UNAUFFAELLIGER, SEMIO_KULT. This mean that PC2 increases if the person is more religious, moved in during earlier decades, more of a money-saver, more dutiful, more traditional-minded, more financially inconspicuous or more cultural-minded. <br>\n",
    "These features are in same direction of PC2: ALTERSKATEGORIE_GROB, FINANZ_VORSORGER, SEMIO_ERL. This means PC2 increases with increasing estimated age, financially less prepared, less events-orientated. <br>\n",
    "\n",
    "PC3 increase in the opposite direction as these features: ANREDE_KZ, SEMIO_KAEM, SEMIO_DOM, SEMIO_KRIT, SEMIO_RAT , FINANZ_ANLEGER. PC3 value is higher for male than female. PC3 increases with higher combative attitude, more dominant-minded, more critical-minded, or if the person is more of an investor. <br>\n",
    "PC3 increases in the same direction as these features: SEMIO_VERT, SEMIO_SOZ, SEMIO_FAM, SEMIO_KULT. PC3 increases if the person is less dreamful, less socially-minded, less family-minded or less cultural-minded. "
   ]
  },
  {
   "cell_type": "markdown",
   "metadata": {},
   "source": [
    "## Step 3: Clustering\n",
    "\n",
    "### Step 3.1: Apply Clustering to General Population\n",
    "\n",
    "You've assessed and cleaned the demographics data, then scaled and transformed them. Now, it's time to see how the data clusters in the principal components space. In this substep, you will apply k-means clustering to the dataset and use the average within-cluster distances from each point to their assigned cluster's centroid to decide on a number of clusters to keep.\n",
    "\n",
    "- Use sklearn's [KMeans](http://scikit-learn.org/stable/modules/generated/sklearn.cluster.KMeans.html#sklearn.cluster.KMeans) class to perform k-means clustering on the PCA-transformed data.\n",
    "- Then, compute the average difference from each point to its assigned cluster's center. **Hint**: The KMeans object's `.score()` method might be useful here, but note that in sklearn, scores tend to be defined so that larger is better. Try applying it to a small, toy dataset, or use an internet search to help your understanding.\n",
    "- Perform the above two steps for a number of different cluster counts. You can then see how the average distance decreases with an increasing number of clusters. However, each additional cluster provides a smaller net benefit. Use this fact to select a final number of clusters in which to group the data. **Warning**: because of the large size of the dataset, it can take a long time for the algorithm to resolve. The more clusters to fit, the longer the algorithm will take. You should test for cluster counts through at least 10 clusters to get the full picture, but you shouldn't need to test for a number of clusters above about 30.\n",
    "- Once you've selected a final number of clusters to use, re-fit a KMeans instance to perform the clustering operation. Make sure that you also obtain the cluster assignments for the general demographics data, since you'll be using them in the final Step 3.3."
   ]
  },
  {
   "cell_type": "code",
   "execution_count": 972,
   "metadata": {},
   "outputs": [],
   "source": [
    "# randomly select a subset of data from the pca data\n",
    "sample=azdias_pca[np.random.choice(azdias_pca.shape[0], int(azdias_pca.shape[0]/10)), :].copy()"
   ]
  },
  {
   "cell_type": "code",
   "execution_count": 975,
   "metadata": {},
   "outputs": [],
   "source": [
    "# Over a number of different cluster counts...\n",
    "num_clusters = range(6,25)\n",
    "scores = []\n",
    "for num in num_clusters:\n",
    "    kmeans=KMeans(num)\n",
    "    kmeans.fit(sample)\n",
    "    labels = kmeans.predict(sample)\n",
    "    scores.append(kmeans.score(sample))"
   ]
  },
  {
   "cell_type": "code",
   "execution_count": 976,
   "metadata": {},
   "outputs": [
    {
     "data": {
      "text/plain": [
       "Text(0.5,0,'number of clusters')"
      ]
     },
     "execution_count": 976,
     "metadata": {},
     "output_type": "execute_result"
    },
    {
     "data": {
      "image/png": "[encoded data removed]",
      "text/plain": [
       "<Figure size 432x288 with 1 Axes>"
      ]
     },
     "metadata": {},
     "output_type": "display_data"
    }
   ],
   "source": [
    "# Investigate the change in within-cluster distance across number of clusters.\n",
    "# HINT: Use matplotlib's plot function to visualize this relationship.\n",
    "plt.plot(num_clusters, scores)\n",
    "plt.xlabel('number of clusters')"
   ]
  },
  {
   "cell_type": "markdown",
   "metadata": {},
   "source": [
    "The elbow seems to be at number of cluster = 11"
   ]
  },
  {
   "cell_type": "code",
   "execution_count": 1083,
   "metadata": {},
   "outputs": [],
   "source": [
    "# Re-fit the k-means model with the selected number of clusters and obtain\n",
    "# cluster predictions for the general population demographics data.\n",
    "kmeans_11=KMeans(11)\n",
    "kmeans_11.fit(azdias_pca)\n",
    "general_labels = kmeans_11.predict(azdias_pca)"
   ]
  },
  {
   "cell_type": "markdown",
   "metadata": {},
   "source": [
    "### Discussion 3.1: Apply Clustering to General Population\n",
    "\n",
    "I applied KMeans to a subset of the data (10%), with number of clusters ranging from 5 to 30, and used the model's score to assess the performances at different number of clusters. I found that at around 13 cluster, the increase of score slowed down. Therefore, I decide that 13 is a reasonably good choice for number of clusters."
   ]
  },
  {
   "cell_type": "markdown",
   "metadata": {},
   "source": [
    "### Step 3.2: Apply All Steps to the Customer Data\n",
    "\n",
    "Now that you have clusters and cluster centers for the general population, it's time to see how the customer data maps on to those clusters. Take care to not confuse this for re-fitting all of the models to the customer data. Instead, you're going to use the fits from the general population to clean, transform, and cluster the customer data. In the last step of the project, you will interpret how the general population fits apply to the customer data.\n",
    "\n",
    "- Don't forget when loading in the customers data, that it is semicolon (`;`) delimited.\n",
    "- Apply the same feature wrangling, selection, and engineering steps to the customer demographics using the `clean_data()` function you created earlier. (You can assume that the customer demographics data has similar meaning behind missing data patterns as the general demographics data.)\n",
    "- Use the sklearn objects from the general demographics data, and apply their transformations to the customers data. That is, you should not be using a `.fit()` or `.fit_transform()` method to re-fit the old objects, nor should you be creating new sklearn objects! Carry the data through the feature scaling, PCA, and clustering steps, obtaining cluster assignments for all of the data in the customer demographics data."
   ]
  },
  {
   "cell_type": "code",
   "execution_count": 979,
   "metadata": {},
   "outputs": [],
   "source": [
    "# Load in the customer demographics data, and feature summary\n",
    "customers = pd.read_csv('Udacity_CUSTOMERS_Subset.csv', sep=';')\n",
    "feat_info = pd.read_csv('AZDIAS_Feature_Summary.csv', sep=';')"
   ]
  },
  {
   "cell_type": "code",
   "execution_count": 1054,
   "metadata": {},
   "outputs": [],
   "source": [
    "# These columns had > 200000 missing values in the general populaion data, need to drop them\n",
    "# from custromers data\n",
    "columns_to_drop = ['AGER_TYP',\n",
    " 'GEBURTSJAHR',\n",
    " 'TITEL_KZ',\n",
    " 'ALTER_HH',\n",
    " 'KK_KUNDENTYP',\n",
    " 'KBA05_BAUMAX',\n",
    "'CJT_GESAMTTYP',\n",
    " 'FINANZTYP',\n",
    " 'GFK_URLAUBERTYP',\n",
    " 'LP_FAMILIE_FEIN',\n",
    " 'LP_FAMILIE_GROB',\n",
    " 'LP_STATUS_FEIN',\n",
    " 'LP_STATUS_GROB',\n",
    " 'NATIONALITAET_KZ',\n",
    " 'SHOPPER_TYP',\n",
    " 'VERS_TYP',\n",
    " 'ZABEOTYP',\n",
    " 'GEBAEUDETYP',\n",
    " 'CAMEO_DEUG_2015',\n",
    " 'CAMEO_DEU_2015']"
   ]
  },
  {
   "cell_type": "code",
   "execution_count": 1055,
   "metadata": {
    "scrolled": false
   },
   "outputs": [],
   "source": [
    "# clean customer data\n",
    "customer_clean = clean_data(customers.copy(), columns_to_drop, feat_info)"
   ]
  },
  {
   "cell_type": "code",
   "execution_count": 1057,
   "metadata": {},
   "outputs": [
    {
     "data": {
      "text/plain": [
       "0.8607720248905827"
      ]
     },
     "execution_count": 1057,
     "metadata": {},
     "output_type": "execute_result"
    }
   ],
   "source": [
    "(customer_clean.isnull().sum(axis=1)==0).mean()"
   ]
  },
  {
   "cell_type": "markdown",
   "metadata": {},
   "source": [
    "More than 14% of the rows contain missing values. I will do imputation by replacing these missing values with median. "
   ]
  },
  {
   "cell_type": "code",
   "execution_count": 1081,
   "metadata": {},
   "outputs": [],
   "source": [
    "# Apply preprocessing, feature transformation, and clustering from the general\n",
    "# demographics onto the customer data, obtaining cluster predictions for the\n",
    "# customer demographics data.\n",
    "\n",
    "# apply imputation\n",
    "customers_imp = imp.transform(customer_clean)\n",
    "# apply StandardScaler\n",
    "customers_scaled = scaler.transform(customers_imp)\n",
    "# apply PCA\n",
    "customers_pca = pca.transform(customers_scaled)\n",
    "# apply kmeans predictions\n",
    "customers_labels = kmeans_11.predict(customers_pca)"
   ]
  },
  {
   "cell_type": "markdown",
   "metadata": {},
   "source": [
    "### Step 3.3: Compare Customer Data to Demographics Data\n",
    "\n",
    "At this point, you have clustered data based on demographics of the general population of Germany, and seen how the customer data for a mail-order sales company maps onto those demographic clusters. In this final substep, you will compare the two cluster distributions to see where the strongest customer base for the company is.\n",
    "\n",
    "Consider the proportion of persons in each cluster for the general population, and the proportions for the customers. If we think the company's customer base to be universal, then the cluster assignment proportions should be fairly similar between the two. If there are only particular segments of the population that are interested in the company's products, then we should see a mismatch from one to the other. If there is a higher proportion of persons in a cluster for the customer data compared to the general population (e.g. 5% of persons are assigned to a cluster for the general population, but 15% of the customer data is closest to that cluster's centroid) then that suggests the people in that cluster to be a target audience for the company. On the other hand, the proportion of the data in a cluster being larger in the general population than the customer data (e.g. only 2% of customers closest to a population centroid that captures 6% of the data) suggests that group of persons to be outside of the target demographics.\n",
    "\n",
    "Take a look at the following points in this step:\n",
    "\n",
    "- Compute the proportion of data points in each cluster for the general population and the customer data. Visualizations will be useful here: both for the individual dataset proportions, but also to visualize the ratios in cluster representation between groups. Seaborn's [`countplot()`](https://seaborn.pydata.org/generated/seaborn.countplot.html) or [`barplot()`](https://seaborn.pydata.org/generated/seaborn.barplot.html) function could be handy.\n",
    "  - Recall the analysis you performed in step 1.1.3 of the project, where you separated out certain data points from the dataset if they had more than a specified threshold of missing values. If you found that this group was qualitatively different from the main bulk of the data, you should treat this as an additional data cluster in this analysis. Make sure that you account for the number of data points in this subset, for both the general population and customer datasets, when making your computations!\n",
    "- Which cluster or clusters are overrepresented in the customer dataset compared to the general population? Select at least one such cluster and infer what kind of people might be represented by that cluster. Use the principal component interpretations from step 2.3 or look at additional components to help you make this inference. Alternatively, you can use the `.inverse_transform()` method of the PCA and StandardScaler objects to transform centroids back to the original data space and interpret the retrieved values directly.\n",
    "- Perform a similar investigation for the underrepresented clusters. Which cluster or clusters are underrepresented in the customer dataset compared to the general population, and what kinds of people are typified by these clusters?"
   ]
  },
  {
   "cell_type": "markdown",
   "metadata": {},
   "source": [
    "Compare the proportion of data in each cluster for the customer data and general population data"
   ]
  },
  {
   "cell_type": "code",
   "execution_count": 1119,
   "metadata": {
    "scrolled": false
   },
   "outputs": [
    {
     "data": {
      "image/png": "[encoded data removed]",
      "text/plain": [
       "<Figure size 432x288 with 1 Axes>"
      ]
     },
     "metadata": {},
     "output_type": "display_data"
    }
   ],
   "source": [
    "# Compare the proportion of data in each cluster for the customer data to the\n",
    "# proportion of data in each cluster for the general population.\n",
    "bins = np.arange(-0.5, 11.5, 1)\n",
    "plt.hist([general_labels, customers_labels], \n",
    "         density=True, alpha=0.5, bins=bins,\n",
    "         label=['general population', 'customers'])\n",
    "#plt.hist(customers_labels, density=True, alpha=0.5, rwidth=0.5, label='customers')\n",
    "plt.xlabel('cluster label')\n",
    "plt.xticks(range(0,11))\n",
    "plt.ylabel('proportion of the clusters')\n",
    "plt.title('percentage of population of each cluster')\n",
    "plt.legend();"
   ]
  },
  {
   "cell_type": "markdown",
   "metadata": {},
   "source": [
    "What kinds of people are part of a cluster that is overrepresented in the customer data compared to the general population?"
   ]
  },
  {
   "cell_type": "markdown",
   "metadata": {},
   "source": [
    "customers in the first cluster is overrepresented, compared to general population"
   ]
  },
  {
   "cell_type": "code",
   "execution_count": 1125,
   "metadata": {
    "scrolled": true
   },
   "outputs": [
    {
     "data": {
      "text/plain": [
       "array([-3.28454611,  0.12092494,  2.7234541 ,  2.34542644, -0.47874528,\n",
       "       -0.29351684,  0.0191035 , -0.08352427])"
      ]
     },
     "execution_count": 1125,
     "metadata": {},
     "output_type": "execute_result"
    }
   ],
   "source": [
    "# view coordinates of cluster center of first cluster\n",
    "kmeans_11.cluster_centers_[0]"
   ]
  },
  {
   "cell_type": "markdown",
   "metadata": {},
   "source": [
    "first cluster in very low in the first PC, close to 0 in second PC, and high in third PC, and high in 4th PC.  <br>\n",
    "\n",
    "Since the first PC value is very low, it indicates customers in this cluster are in location of low movement, and there are high number of 1-2 family houses in the PLZ8 region and microcell, low number of 6-10 family or 10+ family houses in the PLZ8 and microcell, high number of buildings in the microcell, low number of business buildings, high financial interest, and relatively wealthy. <br>\n",
    "\n",
    "Since the second PC is close to 0, I couldn't say firmly regarding the features that dominate PC2. <br>\n",
    "\n",
    "The third PC is of high positive value. Therefore I infer that customers in this cluster is probably mostly male, with high combative attitude, dominant-minded, critical-minded, probably an investor, not dreamful, not socially-minded, not family-minded, and not cultural-minded. "
   ]
  },
  {
   "cell_type": "markdown",
   "metadata": {},
   "source": [
    "What kinds of people are part of a cluster that is underrepresented in the customer data compared to the general population? "
   ]
  },
  {
   "cell_type": "markdown",
   "metadata": {},
   "source": [
    "Customers in the 10th cluster is underrepresented compared to general population."
   ]
  },
  {
   "cell_type": "code",
   "execution_count": 1127,
   "metadata": {
    "scrolled": true
   },
   "outputs": [
    {
     "data": {
      "text/plain": [
       "array([ 4.40325884e+00, -1.67183057e+00, -2.80810886e+00,  4.84444620e-01,\n",
       "        1.93331527e-03, -1.17803252e-01, -8.54350660e-02,  1.16241334e-01])"
      ]
     },
     "execution_count": 1127,
     "metadata": {},
     "output_type": "execute_result"
    }
   ],
   "source": [
    "# view coordinates of the cluster center of the 10th cluster\n",
    "kmeans_11.cluster_centers_[9]"
   ]
  },
  {
   "cell_type": "markdown",
   "metadata": {},
   "source": [
    "This cluster has high PC1, low PC2, and low PC3. \n",
    "High PC1 means that these customers are in a region of high movement, with low number of 1-2 family houses, and high numbers of 6-10 family and 10+ family houses in the PLZ8 region and microcell, low number of buildings in the microcell, high number of business buildings, of low financial interest, and relatively unwealthy. <br>\n",
    "\n",
    "Low PC2 value means that they are not very religious, moved in during late decades, not good at saving money, not dutiful, not traditional-minded, not financially inconspicious, not cultural-minded, and young. <br> \n",
    "\n",
    "Low PC3 values means that these customers are mostly female, they have less combative attitude, not dominant-minded, not critical-minded, not likely an investor, very likely dreamful, socially-minded, family-minded, and cultural-minded. "
   ]
  },
  {
   "cell_type": "markdown",
   "metadata": {},
   "source": [
    "### Discussion 3.3: Compare Customer Data to Demographics Data\n",
    "\n",
    "Customers in first cluster is overrepresented, and customers in 10th clusters are underrepresented. The values of principal component 1 in the 1st and 10th clusters are both far away from 0, and they have opposite signs, meaning customers in the clusters live in drastically different regions. The values of principal component 3 in the 1st and 10th clusters are both far away from 0, and they also have opposite signs, meaning customers in the clusters have very opposite personality. <br>\n",
    "\n",
    "Based on the above discovery, I suggest the company focus its attention on the regions that are of low movement, with high number of 1-2 family, and few 6-10 family or 10+ family houses in the PLZ8 region and microcell, high number of buildings in the microcell, low number of business buildings, high financial interest, and relatively wealthy. <br>\n",
    "\n",
    "The company should also focus its attention on customers who have these characteristics in their personaly: male, high combative attitude, dominant-minded, critical-minded, probably an investor, not dreamful, not socially-minded, not family-minded, and not cultural-minded. "
   ]
  },
  {
   "cell_type": "markdown",
   "metadata": {},
   "source": [
    "> Congratulations on making it this far in the project! Before you finish, make sure to check through the entire notebook from top to bottom to make sure that your analysis follows a logical flow and all of your findings are documented in **Discussion** cells. Once you've checked over all of your work, you should export the notebook as an HTML document to submit for evaluation. You can do this from the menu, navigating to **File -> Download as -> HTML (.html)**. You will submit both that document and this notebook for your project submission."
   ]
  },
  {
   "cell_type": "code",
   "execution_count": null,
   "metadata": {},
   "outputs": [],
   "source": []
  }
 ],
 "metadata": {
  "kernelspec": {
   "display_name": "Python [default]",
   "language": "python",
   "name": "python3"
  },
  "language_info": {
   "codemirror_mode": {
    "name": "ipython",
    "version": 3
   },
   "file_extension": ".py",
   "mimetype": "text/x-python",
   "name": "python",
   "nbconvert_exporter": "python",
   "pygments_lexer": "ipython3",
   "version": "3.6.5"
  }
 },
 "nbformat": 4,
 "nbformat_minor": 2
}
